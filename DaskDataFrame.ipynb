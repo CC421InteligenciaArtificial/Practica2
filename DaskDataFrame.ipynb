{
 "cells": [
  {
   "cell_type": "markdown",
   "id": "572b1faf",
   "metadata": {},
   "source": [
    "# Dask.DataFrame\n",
    "\n",
    "Es un DataFrame en paralelo compuesto por DataFrames de Pandas\n",
    "\n",
    "A continuacion se mostrata unos ejemplos de como usar ciertos métodos"
   ]
  },
  {
   "cell_type": "code",
   "execution_count": 2,
   "id": "ad48a5ba",
   "metadata": {},
   "outputs": [],
   "source": [
    "import dask.dataframe as dd\n",
    "\n",
    "%matplotlib inline"
   ]
  },
  {
   "cell_type": "markdown",
   "id": "72e967ab",
   "metadata": {},
   "source": [
    "A continuación se mostrará como leer un archivo parseando el formato Date de la columna **pickup_datetime**"
   ]
  },
  {
   "cell_type": "code",
   "execution_count": 4,
   "id": "70eb5228",
   "metadata": {},
   "outputs": [],
   "source": [
    "df = dd.read_csv(\"train.csv\", parse_dates=['pickup_datetime'])"
   ]
  },
  {
   "cell_type": "code",
   "execution_count": 5,
   "id": "69ca3a53",
   "metadata": {
    "scrolled": false
   },
   "outputs": [
    {
     "data": {
      "text/plain": [
       "(Delayed('int-d11f2c71-ce18-4568-af31-8c9ba47fb9f2'), 8)"
      ]
     },
     "execution_count": 5,
     "metadata": {},
     "output_type": "execute_result"
    }
   ],
   "source": [
    "df.shape"
   ]
  },
  {
   "cell_type": "code",
   "execution_count": 22,
   "id": "336aeb33",
   "metadata": {
    "scrolled": true
   },
   "outputs": [
    {
     "data": {
      "text/html": [
       "<div><strong>Dask DataFrame Structure:</strong></div>\n",
       "<div>\n",
       "<style scoped>\n",
       "    .dataframe tbody tr th:only-of-type {\n",
       "        vertical-align: middle;\n",
       "    }\n",
       "\n",
       "    .dataframe tbody tr th {\n",
       "        vertical-align: top;\n",
       "    }\n",
       "\n",
       "    .dataframe thead th {\n",
       "        text-align: right;\n",
       "    }\n",
       "</style>\n",
       "<table border=\"1\" class=\"dataframe\">\n",
       "  <thead>\n",
       "    <tr style=\"text-align: right;\">\n",
       "      <th></th>\n",
       "      <th>key</th>\n",
       "      <th>fare_amount</th>\n",
       "      <th>pickup_datetime</th>\n",
       "      <th>pickup_longitude</th>\n",
       "      <th>pickup_latitude</th>\n",
       "      <th>dropoff_longitude</th>\n",
       "      <th>dropoff_latitude</th>\n",
       "      <th>passenger_count</th>\n",
       "    </tr>\n",
       "    <tr>\n",
       "      <th>npartitions=1</th>\n",
       "      <th></th>\n",
       "      <th></th>\n",
       "      <th></th>\n",
       "      <th></th>\n",
       "      <th></th>\n",
       "      <th></th>\n",
       "      <th></th>\n",
       "      <th></th>\n",
       "    </tr>\n",
       "  </thead>\n",
       "  <tbody>\n",
       "    <tr>\n",
       "      <th></th>\n",
       "      <td>object</td>\n",
       "      <td>float64</td>\n",
       "      <td>datetime64[ns, UTC]</td>\n",
       "      <td>float64</td>\n",
       "      <td>float64</td>\n",
       "      <td>float64</td>\n",
       "      <td>float64</td>\n",
       "      <td>int64</td>\n",
       "    </tr>\n",
       "    <tr>\n",
       "      <th></th>\n",
       "      <td>...</td>\n",
       "      <td>...</td>\n",
       "      <td>...</td>\n",
       "      <td>...</td>\n",
       "      <td>...</td>\n",
       "      <td>...</td>\n",
       "      <td>...</td>\n",
       "      <td>...</td>\n",
       "    </tr>\n",
       "  </tbody>\n",
       "</table>\n",
       "</div>\n",
       "<div>Dask Name: blocks, 91 tasks</div>"
      ],
      "text/plain": [
       "Dask DataFrame Structure:\n",
       "                  key fare_amount      pickup_datetime pickup_longitude pickup_latitude dropoff_longitude dropoff_latitude passenger_count\n",
       "npartitions=1                                                                                                                             \n",
       "               object     float64  datetime64[ns, UTC]          float64         float64           float64          float64           int64\n",
       "                  ...         ...                  ...              ...             ...               ...              ...             ...\n",
       "Dask Name: blocks, 91 tasks"
      ]
     },
     "execution_count": 22,
     "metadata": {},
     "output_type": "execute_result"
    }
   ],
   "source": [
    "df.partitions[0]"
   ]
  },
  {
   "cell_type": "code",
   "execution_count": 25,
   "id": "b87134ec",
   "metadata": {
    "scrolled": true
   },
   "outputs": [
    {
     "data": {
      "text/html": [
       "<div>\n",
       "<style scoped>\n",
       "    .dataframe tbody tr th:only-of-type {\n",
       "        vertical-align: middle;\n",
       "    }\n",
       "\n",
       "    .dataframe tbody tr th {\n",
       "        vertical-align: top;\n",
       "    }\n",
       "\n",
       "    .dataframe thead th {\n",
       "        text-align: right;\n",
       "    }\n",
       "</style>\n",
       "<table border=\"1\" class=\"dataframe\">\n",
       "  <thead>\n",
       "    <tr style=\"text-align: right;\">\n",
       "      <th></th>\n",
       "      <th>key</th>\n",
       "      <th>fare_amount</th>\n",
       "      <th>pickup_datetime</th>\n",
       "      <th>pickup_longitude</th>\n",
       "      <th>pickup_latitude</th>\n",
       "      <th>dropoff_longitude</th>\n",
       "      <th>dropoff_latitude</th>\n",
       "      <th>passenger_count</th>\n",
       "    </tr>\n",
       "  </thead>\n",
       "  <tbody>\n",
       "    <tr>\n",
       "      <th>0</th>\n",
       "      <td>2009-06-15 17:26:21.0000001</td>\n",
       "      <td>4.50</td>\n",
       "      <td>2009-06-15 17:26:21+00:00</td>\n",
       "      <td>-73.844311</td>\n",
       "      <td>40.721319</td>\n",
       "      <td>-73.841610</td>\n",
       "      <td>40.712278</td>\n",
       "      <td>1</td>\n",
       "    </tr>\n",
       "    <tr>\n",
       "      <th>1</th>\n",
       "      <td>2010-01-05 16:52:16.0000002</td>\n",
       "      <td>16.90</td>\n",
       "      <td>2010-01-05 16:52:16+00:00</td>\n",
       "      <td>-74.016048</td>\n",
       "      <td>40.711303</td>\n",
       "      <td>-73.979268</td>\n",
       "      <td>40.782004</td>\n",
       "      <td>1</td>\n",
       "    </tr>\n",
       "    <tr>\n",
       "      <th>2</th>\n",
       "      <td>2011-08-18 00:35:00.00000049</td>\n",
       "      <td>5.70</td>\n",
       "      <td>2011-08-18 00:35:00+00:00</td>\n",
       "      <td>-73.982738</td>\n",
       "      <td>40.761270</td>\n",
       "      <td>-73.991242</td>\n",
       "      <td>40.750562</td>\n",
       "      <td>2</td>\n",
       "    </tr>\n",
       "    <tr>\n",
       "      <th>3</th>\n",
       "      <td>2012-04-21 04:30:42.0000001</td>\n",
       "      <td>7.70</td>\n",
       "      <td>2012-04-21 04:30:42+00:00</td>\n",
       "      <td>-73.987130</td>\n",
       "      <td>40.733143</td>\n",
       "      <td>-73.991567</td>\n",
       "      <td>40.758092</td>\n",
       "      <td>1</td>\n",
       "    </tr>\n",
       "    <tr>\n",
       "      <th>4</th>\n",
       "      <td>2010-03-09 07:51:00.000000135</td>\n",
       "      <td>5.30</td>\n",
       "      <td>2010-03-09 07:51:00+00:00</td>\n",
       "      <td>-73.968095</td>\n",
       "      <td>40.768008</td>\n",
       "      <td>-73.956655</td>\n",
       "      <td>40.783762</td>\n",
       "      <td>1</td>\n",
       "    </tr>\n",
       "    <tr>\n",
       "      <th>...</th>\n",
       "      <td>...</td>\n",
       "      <td>...</td>\n",
       "      <td>...</td>\n",
       "      <td>...</td>\n",
       "      <td>...</td>\n",
       "      <td>...</td>\n",
       "      <td>...</td>\n",
       "      <td>...</td>\n",
       "    </tr>\n",
       "    <tr>\n",
       "      <th>622575</th>\n",
       "      <td>2012-01-25 10:48:44.0000003</td>\n",
       "      <td>5.30</td>\n",
       "      <td>2012-01-25 10:48:44+00:00</td>\n",
       "      <td>-73.981488</td>\n",
       "      <td>40.729221</td>\n",
       "      <td>-73.995126</td>\n",
       "      <td>40.728076</td>\n",
       "      <td>1</td>\n",
       "    </tr>\n",
       "    <tr>\n",
       "      <th>622576</th>\n",
       "      <td>2009-08-29 02:51:00.00000010</td>\n",
       "      <td>8.90</td>\n",
       "      <td>2009-08-29 02:51:00+00:00</td>\n",
       "      <td>-74.005788</td>\n",
       "      <td>40.726260</td>\n",
       "      <td>-73.977742</td>\n",
       "      <td>40.746148</td>\n",
       "      <td>1</td>\n",
       "    </tr>\n",
       "    <tr>\n",
       "      <th>622577</th>\n",
       "      <td>2009-09-11 09:59:00.000000150</td>\n",
       "      <td>10.50</td>\n",
       "      <td>2009-09-11 09:59:00+00:00</td>\n",
       "      <td>-73.962948</td>\n",
       "      <td>40.767923</td>\n",
       "      <td>-73.972827</td>\n",
       "      <td>40.795977</td>\n",
       "      <td>1</td>\n",
       "    </tr>\n",
       "    <tr>\n",
       "      <th>622578</th>\n",
       "      <td>2010-08-04 09:32:00.000000109</td>\n",
       "      <td>6.10</td>\n",
       "      <td>2010-08-04 09:32:00+00:00</td>\n",
       "      <td>-73.993595</td>\n",
       "      <td>40.743253</td>\n",
       "      <td>-74.007273</td>\n",
       "      <td>40.751558</td>\n",
       "      <td>1</td>\n",
       "    </tr>\n",
       "    <tr>\n",
       "      <th>622579</th>\n",
       "      <td>2010-10-18 20:49:12.0000001</td>\n",
       "      <td>37.87</td>\n",
       "      <td>2010-10-18 20:49:12+00:00</td>\n",
       "      <td>-73.984251</td>\n",
       "      <td>40.761443</td>\n",
       "      <td>-73.944439</td>\n",
       "      <td>40.630234</td>\n",
       "      <td>1</td>\n",
       "    </tr>\n",
       "  </tbody>\n",
       "</table>\n",
       "<p>622580 rows × 8 columns</p>\n",
       "</div>"
      ],
      "text/plain": [
       "                                  key  fare_amount           pickup_datetime  \\\n",
       "0         2009-06-15 17:26:21.0000001         4.50 2009-06-15 17:26:21+00:00   \n",
       "1         2010-01-05 16:52:16.0000002        16.90 2010-01-05 16:52:16+00:00   \n",
       "2        2011-08-18 00:35:00.00000049         5.70 2011-08-18 00:35:00+00:00   \n",
       "3         2012-04-21 04:30:42.0000001         7.70 2012-04-21 04:30:42+00:00   \n",
       "4       2010-03-09 07:51:00.000000135         5.30 2010-03-09 07:51:00+00:00   \n",
       "...                               ...          ...                       ...   \n",
       "622575    2012-01-25 10:48:44.0000003         5.30 2012-01-25 10:48:44+00:00   \n",
       "622576   2009-08-29 02:51:00.00000010         8.90 2009-08-29 02:51:00+00:00   \n",
       "622577  2009-09-11 09:59:00.000000150        10.50 2009-09-11 09:59:00+00:00   \n",
       "622578  2010-08-04 09:32:00.000000109         6.10 2010-08-04 09:32:00+00:00   \n",
       "622579    2010-10-18 20:49:12.0000001        37.87 2010-10-18 20:49:12+00:00   \n",
       "\n",
       "        pickup_longitude  pickup_latitude  dropoff_longitude  \\\n",
       "0             -73.844311        40.721319         -73.841610   \n",
       "1             -74.016048        40.711303         -73.979268   \n",
       "2             -73.982738        40.761270         -73.991242   \n",
       "3             -73.987130        40.733143         -73.991567   \n",
       "4             -73.968095        40.768008         -73.956655   \n",
       "...                  ...              ...                ...   \n",
       "622575        -73.981488        40.729221         -73.995126   \n",
       "622576        -74.005788        40.726260         -73.977742   \n",
       "622577        -73.962948        40.767923         -73.972827   \n",
       "622578        -73.993595        40.743253         -74.007273   \n",
       "622579        -73.984251        40.761443         -73.944439   \n",
       "\n",
       "        dropoff_latitude  passenger_count  \n",
       "0              40.712278                1  \n",
       "1              40.782004                1  \n",
       "2              40.750562                2  \n",
       "3              40.758092                1  \n",
       "4              40.783762                1  \n",
       "...                  ...              ...  \n",
       "622575         40.728076                1  \n",
       "622576         40.746148                1  \n",
       "622577         40.795977                1  \n",
       "622578         40.751558                1  \n",
       "622579         40.630234                1  \n",
       "\n",
       "[622580 rows x 8 columns]"
      ]
     },
     "execution_count": 25,
     "metadata": {},
     "output_type": "execute_result"
    }
   ],
   "source": [
    "df.partitions[0].compute()"
   ]
  },
  {
   "cell_type": "code",
   "execution_count": 21,
   "id": "9222c590",
   "metadata": {
    "scrolled": true
   },
   "outputs": [
    {
     "data": {
      "text/plain": [
       "0        -73.844311\n",
       "1        -74.016048\n",
       "2        -73.982738\n",
       "3        -73.987130\n",
       "4        -73.968095\n",
       "            ...    \n",
       "622575   -73.981488\n",
       "622576   -74.005788\n",
       "622577   -73.962948\n",
       "622578   -73.993595\n",
       "622579   -73.984251\n",
       "Name: pickup_longitude, Length: 622580, dtype: float64"
      ]
     },
     "execution_count": 21,
     "metadata": {},
     "output_type": "execute_result"
    }
   ],
   "source": [
    "df['pickup_longitude'].partitions[0].compute()"
   ]
  },
  {
   "cell_type": "code",
   "execution_count": 31,
   "id": "6c97d84c",
   "metadata": {},
   "outputs": [
    {
     "name": "stdout",
     "output_type": "stream",
     "text": [
      "Wall time: 3min 8s\n"
     ]
    },
    {
     "data": {
      "text/plain": [
       "array([-73.844311, -74.016048, -73.982738, ..., -73.962948, -73.993595,\n",
       "       -73.984251])"
      ]
     },
     "execution_count": 31,
     "metadata": {},
     "output_type": "execute_result"
    }
   ],
   "source": [
    "aux = df['pickup_longitude'].partitions[0].values.compute()"
   ]
  },
  {
   "cell_type": "code",
   "execution_count": 32,
   "id": "085fa317",
   "metadata": {},
   "outputs": [],
   "source": [
    "##Pruebas"
   ]
  },
  {
   "cell_type": "code",
   "execution_count": null,
   "id": "2e1c28a2",
   "metadata": {},
   "outputs": [],
   "source": [
    "aux2 = df['dropoff_longitude'].partitions[0].values.compute()"
   ]
  },
  {
   "cell_type": "code",
   "execution_count": null,
   "id": "c65bf334",
   "metadata": {},
   "outputs": [],
   "source": [
    "aux3 = df['dropoff_latitude'].partitions[0].values.compute()"
   ]
  },
  {
   "cell_type": "code",
   "execution_count": null,
   "id": "ff97fb3b",
   "metadata": {},
   "outputs": [],
   "source": [
    "aux4 = df['pickup_latitude'].partitions[0].values.compute()"
   ]
  },
  {
   "cell_type": "code",
   "execution_count": null,
   "id": "655a60dd",
   "metadata": {},
   "outputs": [],
   "source": []
  }
 ],
 "metadata": {
  "kernelspec": {
   "display_name": "Python 3",
   "language": "python",
   "name": "python3"
  },
  "language_info": {
   "codemirror_mode": {
    "name": "ipython",
    "version": 3
   },
   "file_extension": ".py",
   "mimetype": "text/x-python",
   "name": "python",
   "nbconvert_exporter": "python",
   "pygments_lexer": "ipython3",
   "version": "3.9.1"
  }
 },
 "nbformat": 4,
 "nbformat_minor": 5
}
