{
 "cells": [
  {
   "cell_type": "code",
   "execution_count": 1,
   "id": "5881bf35",
   "metadata": {},
   "outputs": [],
   "source": [
    "import pandas as pd"
   ]
  },
  {
   "cell_type": "code",
   "execution_count": 2,
   "id": "5225d341",
   "metadata": {},
   "outputs": [],
   "source": [
    "df = pd.read_csv('dataframe.csv')"
   ]
  },
  {
   "cell_type": "code",
   "execution_count": 3,
   "id": "3038a714",
   "metadata": {},
   "outputs": [],
   "source": [
    "# Lectura para testeo\n",
    "df = pd.read_csv('dataframe.csv', nrows = 15000000)"
   ]
  },
  {
   "cell_type": "code",
   "execution_count": 4,
   "id": "ccc1709c",
   "metadata": {
    "scrolled": true
   },
   "outputs": [
    {
     "data": {
      "text/html": [
       "<div>\n",
       "<style scoped>\n",
       "    .dataframe tbody tr th:only-of-type {\n",
       "        vertical-align: middle;\n",
       "    }\n",
       "\n",
       "    .dataframe tbody tr th {\n",
       "        vertical-align: top;\n",
       "    }\n",
       "\n",
       "    .dataframe thead th {\n",
       "        text-align: right;\n",
       "    }\n",
       "</style>\n",
       "<table border=\"1\" class=\"dataframe\">\n",
       "  <thead>\n",
       "    <tr style=\"text-align: right;\">\n",
       "      <th></th>\n",
       "      <th>fare_amount</th>\n",
       "      <th>pickup_longitude</th>\n",
       "      <th>pickup_latitude</th>\n",
       "      <th>dropoff_longitude</th>\n",
       "      <th>dropoff_latitude</th>\n",
       "      <th>passenger_count</th>\n",
       "      <th>distance</th>\n",
       "      <th>dates</th>\n",
       "    </tr>\n",
       "  </thead>\n",
       "  <tbody>\n",
       "    <tr>\n",
       "      <th>0</th>\n",
       "      <td>4.5</td>\n",
       "      <td>-73.844311</td>\n",
       "      <td>40.721319</td>\n",
       "      <td>-73.841610</td>\n",
       "      <td>40.712278</td>\n",
       "      <td>1</td>\n",
       "      <td>94.358403</td>\n",
       "      <td>06-15</td>\n",
       "    </tr>\n",
       "    <tr>\n",
       "      <th>1</th>\n",
       "      <td>16.9</td>\n",
       "      <td>-74.016048</td>\n",
       "      <td>40.711303</td>\n",
       "      <td>-73.979268</td>\n",
       "      <td>40.782004</td>\n",
       "      <td>1</td>\n",
       "      <td>796.956699</td>\n",
       "      <td>01-05</td>\n",
       "    </tr>\n",
       "    <tr>\n",
       "      <th>2</th>\n",
       "      <td>5.7</td>\n",
       "      <td>-73.982738</td>\n",
       "      <td>40.761270</td>\n",
       "      <td>-73.991242</td>\n",
       "      <td>40.750562</td>\n",
       "      <td>2</td>\n",
       "      <td>136.740367</td>\n",
       "      <td>08-18</td>\n",
       "    </tr>\n",
       "    <tr>\n",
       "      <th>3</th>\n",
       "      <td>7.7</td>\n",
       "      <td>-73.987130</td>\n",
       "      <td>40.733143</td>\n",
       "      <td>-73.991567</td>\n",
       "      <td>40.758092</td>\n",
       "      <td>1</td>\n",
       "      <td>253.404730</td>\n",
       "      <td>04-21</td>\n",
       "    </tr>\n",
       "    <tr>\n",
       "      <th>4</th>\n",
       "      <td>5.3</td>\n",
       "      <td>-73.968095</td>\n",
       "      <td>40.768008</td>\n",
       "      <td>-73.956655</td>\n",
       "      <td>40.783762</td>\n",
       "      <td>1</td>\n",
       "      <td>194.695176</td>\n",
       "      <td>03-09</td>\n",
       "    </tr>\n",
       "  </tbody>\n",
       "</table>\n",
       "</div>"
      ],
      "text/plain": [
       "   fare_amount  pickup_longitude  pickup_latitude  dropoff_longitude  \\\n",
       "0          4.5        -73.844311        40.721319         -73.841610   \n",
       "1         16.9        -74.016048        40.711303         -73.979268   \n",
       "2          5.7        -73.982738        40.761270         -73.991242   \n",
       "3          7.7        -73.987130        40.733143         -73.991567   \n",
       "4          5.3        -73.968095        40.768008         -73.956655   \n",
       "\n",
       "   dropoff_latitude  passenger_count    distance  dates  \n",
       "0         40.712278                1   94.358403  06-15  \n",
       "1         40.782004                1  796.956699  01-05  \n",
       "2         40.750562                2  136.740367  08-18  \n",
       "3         40.758092                1  253.404730  04-21  \n",
       "4         40.783762                1  194.695176  03-09  "
      ]
     },
     "execution_count": 4,
     "metadata": {},
     "output_type": "execute_result"
    }
   ],
   "source": [
    "df.head()"
   ]
  },
  {
   "cell_type": "code",
   "execution_count": 5,
   "id": "866bf3fc",
   "metadata": {
    "scrolled": true
   },
   "outputs": [
    {
     "name": "stdout",
     "output_type": "stream",
     "text": [
      "<class 'pandas.core.frame.DataFrame'>\n",
      "RangeIndex: 15000000 entries, 0 to 14999999\n",
      "Data columns (total 8 columns):\n",
      " #   Column             Dtype  \n",
      "---  ------             -----  \n",
      " 0   fare_amount        float64\n",
      " 1   pickup_longitude   float64\n",
      " 2   pickup_latitude    float64\n",
      " 3   dropoff_longitude  float64\n",
      " 4   dropoff_latitude   float64\n",
      " 5   passenger_count    int64  \n",
      " 6   distance           float64\n",
      " 7   dates              object \n",
      "dtypes: float64(6), int64(1), object(1)\n",
      "memory usage: 1.6 GB\n"
     ]
    }
   ],
   "source": [
    "df.info(memory_usage='deep')"
   ]
  },
  {
   "cell_type": "code",
   "execution_count": 6,
   "id": "e392576a",
   "metadata": {},
   "outputs": [],
   "source": [
    "import matplotlib.pyplot as plt\n",
    "import swifter"
   ]
  },
  {
   "cell_type": "code",
   "execution_count": 7,
   "id": "d5975392",
   "metadata": {},
   "outputs": [
    {
     "data": {
      "text/plain": [
       "0        0\n",
       "1        1\n",
       "2        2\n",
       "3        3\n",
       "4        4\n",
       "      ... \n",
       "361    361\n",
       "362    362\n",
       "363    363\n",
       "364    364\n",
       "365    365\n",
       "Length: 366, dtype: int64"
      ]
     },
     "execution_count": 7,
     "metadata": {},
     "output_type": "execute_result"
    }
   ],
   "source": [
    "serie = pd.Series(range(0,366))\n",
    "serie"
   ]
  },
  {
   "cell_type": "code",
   "execution_count": 8,
   "id": "9d29d04f",
   "metadata": {},
   "outputs": [],
   "source": [
    "a = df.dates.sort_values().unique()"
   ]
  },
  {
   "cell_type": "code",
   "execution_count": 9,
   "id": "a16b03a4",
   "metadata": {
    "scrolled": true
   },
   "outputs": [],
   "source": [
    "b = a.tolist()"
   ]
  },
  {
   "cell_type": "code",
   "execution_count": 10,
   "id": "f0f50550",
   "metadata": {},
   "outputs": [],
   "source": [
    "s = serie.to_list()"
   ]
  },
  {
   "cell_type": "code",
   "execution_count": 11,
   "id": "982465fb",
   "metadata": {},
   "outputs": [],
   "source": [
    "dic={}\n",
    "def func (b,s):\n",
    "    for i in range(0,366):\n",
    "        dic[b[i]]=s[i]\n",
    "        \n",
    "func(b,s)"
   ]
  },
  {
   "cell_type": "code",
   "execution_count": 12,
   "id": "cf051171",
   "metadata": {},
   "outputs": [
    {
     "data": {
      "text/plain": [
       "{'01-01': 0,\n",
       " '01-02': 1,\n",
       " '01-03': 2,\n",
       " '01-04': 3,\n",
       " '01-05': 4,\n",
       " '01-06': 5,\n",
       " '01-07': 6,\n",
       " '01-08': 7,\n",
       " '01-09': 8,\n",
       " '01-10': 9,\n",
       " '01-11': 10,\n",
       " '01-12': 11,\n",
       " '01-13': 12,\n",
       " '01-14': 13,\n",
       " '01-15': 14,\n",
       " '01-16': 15,\n",
       " '01-17': 16,\n",
       " '01-18': 17,\n",
       " '01-19': 18,\n",
       " '01-20': 19,\n",
       " '01-21': 20,\n",
       " '01-22': 21,\n",
       " '01-23': 22,\n",
       " '01-24': 23,\n",
       " '01-25': 24,\n",
       " '01-26': 25,\n",
       " '01-27': 26,\n",
       " '01-28': 27,\n",
       " '01-29': 28,\n",
       " '01-30': 29,\n",
       " '01-31': 30,\n",
       " '02-01': 31,\n",
       " '02-02': 32,\n",
       " '02-03': 33,\n",
       " '02-04': 34,\n",
       " '02-05': 35,\n",
       " '02-06': 36,\n",
       " '02-07': 37,\n",
       " '02-08': 38,\n",
       " '02-09': 39,\n",
       " '02-10': 40,\n",
       " '02-11': 41,\n",
       " '02-12': 42,\n",
       " '02-13': 43,\n",
       " '02-14': 44,\n",
       " '02-15': 45,\n",
       " '02-16': 46,\n",
       " '02-17': 47,\n",
       " '02-18': 48,\n",
       " '02-19': 49,\n",
       " '02-20': 50,\n",
       " '02-21': 51,\n",
       " '02-22': 52,\n",
       " '02-23': 53,\n",
       " '02-24': 54,\n",
       " '02-25': 55,\n",
       " '02-26': 56,\n",
       " '02-27': 57,\n",
       " '02-28': 58,\n",
       " '02-29': 59,\n",
       " '03-01': 60,\n",
       " '03-02': 61,\n",
       " '03-03': 62,\n",
       " '03-04': 63,\n",
       " '03-05': 64,\n",
       " '03-06': 65,\n",
       " '03-07': 66,\n",
       " '03-08': 67,\n",
       " '03-09': 68,\n",
       " '03-10': 69,\n",
       " '03-11': 70,\n",
       " '03-12': 71,\n",
       " '03-13': 72,\n",
       " '03-14': 73,\n",
       " '03-15': 74,\n",
       " '03-16': 75,\n",
       " '03-17': 76,\n",
       " '03-18': 77,\n",
       " '03-19': 78,\n",
       " '03-20': 79,\n",
       " '03-21': 80,\n",
       " '03-22': 81,\n",
       " '03-23': 82,\n",
       " '03-24': 83,\n",
       " '03-25': 84,\n",
       " '03-26': 85,\n",
       " '03-27': 86,\n",
       " '03-28': 87,\n",
       " '03-29': 88,\n",
       " '03-30': 89,\n",
       " '03-31': 90,\n",
       " '04-01': 91,\n",
       " '04-02': 92,\n",
       " '04-03': 93,\n",
       " '04-04': 94,\n",
       " '04-05': 95,\n",
       " '04-06': 96,\n",
       " '04-07': 97,\n",
       " '04-08': 98,\n",
       " '04-09': 99,\n",
       " '04-10': 100,\n",
       " '04-11': 101,\n",
       " '04-12': 102,\n",
       " '04-13': 103,\n",
       " '04-14': 104,\n",
       " '04-15': 105,\n",
       " '04-16': 106,\n",
       " '04-17': 107,\n",
       " '04-18': 108,\n",
       " '04-19': 109,\n",
       " '04-20': 110,\n",
       " '04-21': 111,\n",
       " '04-22': 112,\n",
       " '04-23': 113,\n",
       " '04-24': 114,\n",
       " '04-25': 115,\n",
       " '04-26': 116,\n",
       " '04-27': 117,\n",
       " '04-28': 118,\n",
       " '04-29': 119,\n",
       " '04-30': 120,\n",
       " '05-01': 121,\n",
       " '05-02': 122,\n",
       " '05-03': 123,\n",
       " '05-04': 124,\n",
       " '05-05': 125,\n",
       " '05-06': 126,\n",
       " '05-07': 127,\n",
       " '05-08': 128,\n",
       " '05-09': 129,\n",
       " '05-10': 130,\n",
       " '05-11': 131,\n",
       " '05-12': 132,\n",
       " '05-13': 133,\n",
       " '05-14': 134,\n",
       " '05-15': 135,\n",
       " '05-16': 136,\n",
       " '05-17': 137,\n",
       " '05-18': 138,\n",
       " '05-19': 139,\n",
       " '05-20': 140,\n",
       " '05-21': 141,\n",
       " '05-22': 142,\n",
       " '05-23': 143,\n",
       " '05-24': 144,\n",
       " '05-25': 145,\n",
       " '05-26': 146,\n",
       " '05-27': 147,\n",
       " '05-28': 148,\n",
       " '05-29': 149,\n",
       " '05-30': 150,\n",
       " '05-31': 151,\n",
       " '06-01': 152,\n",
       " '06-02': 153,\n",
       " '06-03': 154,\n",
       " '06-04': 155,\n",
       " '06-05': 156,\n",
       " '06-06': 157,\n",
       " '06-07': 158,\n",
       " '06-08': 159,\n",
       " '06-09': 160,\n",
       " '06-10': 161,\n",
       " '06-11': 162,\n",
       " '06-12': 163,\n",
       " '06-13': 164,\n",
       " '06-14': 165,\n",
       " '06-15': 166,\n",
       " '06-16': 167,\n",
       " '06-17': 168,\n",
       " '06-18': 169,\n",
       " '06-19': 170,\n",
       " '06-20': 171,\n",
       " '06-21': 172,\n",
       " '06-22': 173,\n",
       " '06-23': 174,\n",
       " '06-24': 175,\n",
       " '06-25': 176,\n",
       " '06-26': 177,\n",
       " '06-27': 178,\n",
       " '06-28': 179,\n",
       " '06-29': 180,\n",
       " '06-30': 181,\n",
       " '07-01': 182,\n",
       " '07-02': 183,\n",
       " '07-03': 184,\n",
       " '07-04': 185,\n",
       " '07-05': 186,\n",
       " '07-06': 187,\n",
       " '07-07': 188,\n",
       " '07-08': 189,\n",
       " '07-09': 190,\n",
       " '07-10': 191,\n",
       " '07-11': 192,\n",
       " '07-12': 193,\n",
       " '07-13': 194,\n",
       " '07-14': 195,\n",
       " '07-15': 196,\n",
       " '07-16': 197,\n",
       " '07-17': 198,\n",
       " '07-18': 199,\n",
       " '07-19': 200,\n",
       " '07-20': 201,\n",
       " '07-21': 202,\n",
       " '07-22': 203,\n",
       " '07-23': 204,\n",
       " '07-24': 205,\n",
       " '07-25': 206,\n",
       " '07-26': 207,\n",
       " '07-27': 208,\n",
       " '07-28': 209,\n",
       " '07-29': 210,\n",
       " '07-30': 211,\n",
       " '07-31': 212,\n",
       " '08-01': 213,\n",
       " '08-02': 214,\n",
       " '08-03': 215,\n",
       " '08-04': 216,\n",
       " '08-05': 217,\n",
       " '08-06': 218,\n",
       " '08-07': 219,\n",
       " '08-08': 220,\n",
       " '08-09': 221,\n",
       " '08-10': 222,\n",
       " '08-11': 223,\n",
       " '08-12': 224,\n",
       " '08-13': 225,\n",
       " '08-14': 226,\n",
       " '08-15': 227,\n",
       " '08-16': 228,\n",
       " '08-17': 229,\n",
       " '08-18': 230,\n",
       " '08-19': 231,\n",
       " '08-20': 232,\n",
       " '08-21': 233,\n",
       " '08-22': 234,\n",
       " '08-23': 235,\n",
       " '08-24': 236,\n",
       " '08-25': 237,\n",
       " '08-26': 238,\n",
       " '08-27': 239,\n",
       " '08-28': 240,\n",
       " '08-29': 241,\n",
       " '08-30': 242,\n",
       " '08-31': 243,\n",
       " '09-01': 244,\n",
       " '09-02': 245,\n",
       " '09-03': 246,\n",
       " '09-04': 247,\n",
       " '09-05': 248,\n",
       " '09-06': 249,\n",
       " '09-07': 250,\n",
       " '09-08': 251,\n",
       " '09-09': 252,\n",
       " '09-10': 253,\n",
       " '09-11': 254,\n",
       " '09-12': 255,\n",
       " '09-13': 256,\n",
       " '09-14': 257,\n",
       " '09-15': 258,\n",
       " '09-16': 259,\n",
       " '09-17': 260,\n",
       " '09-18': 261,\n",
       " '09-19': 262,\n",
       " '09-20': 263,\n",
       " '09-21': 264,\n",
       " '09-22': 265,\n",
       " '09-23': 266,\n",
       " '09-24': 267,\n",
       " '09-25': 268,\n",
       " '09-26': 269,\n",
       " '09-27': 270,\n",
       " '09-28': 271,\n",
       " '09-29': 272,\n",
       " '09-30': 273,\n",
       " '10-01': 274,\n",
       " '10-02': 275,\n",
       " '10-03': 276,\n",
       " '10-04': 277,\n",
       " '10-05': 278,\n",
       " '10-06': 279,\n",
       " '10-07': 280,\n",
       " '10-08': 281,\n",
       " '10-09': 282,\n",
       " '10-10': 283,\n",
       " '10-11': 284,\n",
       " '10-12': 285,\n",
       " '10-13': 286,\n",
       " '10-14': 287,\n",
       " '10-15': 288,\n",
       " '10-16': 289,\n",
       " '10-17': 290,\n",
       " '10-18': 291,\n",
       " '10-19': 292,\n",
       " '10-20': 293,\n",
       " '10-21': 294,\n",
       " '10-22': 295,\n",
       " '10-23': 296,\n",
       " '10-24': 297,\n",
       " '10-25': 298,\n",
       " '10-26': 299,\n",
       " '10-27': 300,\n",
       " '10-28': 301,\n",
       " '10-29': 302,\n",
       " '10-30': 303,\n",
       " '10-31': 304,\n",
       " '11-01': 305,\n",
       " '11-02': 306,\n",
       " '11-03': 307,\n",
       " '11-04': 308,\n",
       " '11-05': 309,\n",
       " '11-06': 310,\n",
       " '11-07': 311,\n",
       " '11-08': 312,\n",
       " '11-09': 313,\n",
       " '11-10': 314,\n",
       " '11-11': 315,\n",
       " '11-12': 316,\n",
       " '11-13': 317,\n",
       " '11-14': 318,\n",
       " '11-15': 319,\n",
       " '11-16': 320,\n",
       " '11-17': 321,\n",
       " '11-18': 322,\n",
       " '11-19': 323,\n",
       " '11-20': 324,\n",
       " '11-21': 325,\n",
       " '11-22': 326,\n",
       " '11-23': 327,\n",
       " '11-24': 328,\n",
       " '11-25': 329,\n",
       " '11-26': 330,\n",
       " '11-27': 331,\n",
       " '11-28': 332,\n",
       " '11-29': 333,\n",
       " '11-30': 334,\n",
       " '12-01': 335,\n",
       " '12-02': 336,\n",
       " '12-03': 337,\n",
       " '12-04': 338,\n",
       " '12-05': 339,\n",
       " '12-06': 340,\n",
       " '12-07': 341,\n",
       " '12-08': 342,\n",
       " '12-09': 343,\n",
       " '12-10': 344,\n",
       " '12-11': 345,\n",
       " '12-12': 346,\n",
       " '12-13': 347,\n",
       " '12-14': 348,\n",
       " '12-15': 349,\n",
       " '12-16': 350,\n",
       " '12-17': 351,\n",
       " '12-18': 352,\n",
       " '12-19': 353,\n",
       " '12-20': 354,\n",
       " '12-21': 355,\n",
       " '12-22': 356,\n",
       " '12-23': 357,\n",
       " '12-24': 358,\n",
       " '12-25': 359,\n",
       " '12-26': 360,\n",
       " '12-27': 361,\n",
       " '12-28': 362,\n",
       " '12-29': 363,\n",
       " '12-30': 364,\n",
       " '12-31': 365}"
      ]
     },
     "execution_count": 12,
     "metadata": {},
     "output_type": "execute_result"
    }
   ],
   "source": [
    "dic"
   ]
  },
  {
   "cell_type": "code",
   "execution_count": 13,
   "id": "82511d7e",
   "metadata": {},
   "outputs": [
    {
     "data": {
      "application/vnd.jupyter.widget-view+json": {
       "model_id": "68151571b0e04e19a6c3fe12046009f9",
       "version_major": 2,
       "version_minor": 0
      },
      "text/plain": [
       "Pandas Apply:   0%|          | 0/15000000 [00:00<?, ?it/s]"
      ]
     },
     "metadata": {},
     "output_type": "display_data"
    }
   ],
   "source": [
    "def isindic(X, dix):\n",
    "    if dix[X] != None:\n",
    "        return dix[X]\n",
    "    \n",
    "\n",
    "\n",
    "df['date_map'] = df['dates'].swifter.apply(lambda x: isindic(x,dic))"
   ]
  },
  {
   "cell_type": "code",
   "execution_count": 14,
   "id": "0a4ff416",
   "metadata": {},
   "outputs": [
    {
     "data": {
      "text/html": [
       "<div>\n",
       "<style scoped>\n",
       "    .dataframe tbody tr th:only-of-type {\n",
       "        vertical-align: middle;\n",
       "    }\n",
       "\n",
       "    .dataframe tbody tr th {\n",
       "        vertical-align: top;\n",
       "    }\n",
       "\n",
       "    .dataframe thead th {\n",
       "        text-align: right;\n",
       "    }\n",
       "</style>\n",
       "<table border=\"1\" class=\"dataframe\">\n",
       "  <thead>\n",
       "    <tr style=\"text-align: right;\">\n",
       "      <th></th>\n",
       "      <th>fare_amount</th>\n",
       "      <th>pickup_longitude</th>\n",
       "      <th>pickup_latitude</th>\n",
       "      <th>dropoff_longitude</th>\n",
       "      <th>dropoff_latitude</th>\n",
       "      <th>passenger_count</th>\n",
       "      <th>distance</th>\n",
       "      <th>dates</th>\n",
       "      <th>date_map</th>\n",
       "    </tr>\n",
       "  </thead>\n",
       "  <tbody>\n",
       "    <tr>\n",
       "      <th>0</th>\n",
       "      <td>4.5</td>\n",
       "      <td>-73.844311</td>\n",
       "      <td>40.721319</td>\n",
       "      <td>-73.841610</td>\n",
       "      <td>40.712278</td>\n",
       "      <td>1</td>\n",
       "      <td>94.358403</td>\n",
       "      <td>06-15</td>\n",
       "      <td>166</td>\n",
       "    </tr>\n",
       "    <tr>\n",
       "      <th>1</th>\n",
       "      <td>16.9</td>\n",
       "      <td>-74.016048</td>\n",
       "      <td>40.711303</td>\n",
       "      <td>-73.979268</td>\n",
       "      <td>40.782004</td>\n",
       "      <td>1</td>\n",
       "      <td>796.956699</td>\n",
       "      <td>01-05</td>\n",
       "      <td>4</td>\n",
       "    </tr>\n",
       "    <tr>\n",
       "      <th>2</th>\n",
       "      <td>5.7</td>\n",
       "      <td>-73.982738</td>\n",
       "      <td>40.761270</td>\n",
       "      <td>-73.991242</td>\n",
       "      <td>40.750562</td>\n",
       "      <td>2</td>\n",
       "      <td>136.740367</td>\n",
       "      <td>08-18</td>\n",
       "      <td>230</td>\n",
       "    </tr>\n",
       "    <tr>\n",
       "      <th>3</th>\n",
       "      <td>7.7</td>\n",
       "      <td>-73.987130</td>\n",
       "      <td>40.733143</td>\n",
       "      <td>-73.991567</td>\n",
       "      <td>40.758092</td>\n",
       "      <td>1</td>\n",
       "      <td>253.404730</td>\n",
       "      <td>04-21</td>\n",
       "      <td>111</td>\n",
       "    </tr>\n",
       "  </tbody>\n",
       "</table>\n",
       "</div>"
      ],
      "text/plain": [
       "   fare_amount  pickup_longitude  pickup_latitude  dropoff_longitude  \\\n",
       "0          4.5        -73.844311        40.721319         -73.841610   \n",
       "1         16.9        -74.016048        40.711303         -73.979268   \n",
       "2          5.7        -73.982738        40.761270         -73.991242   \n",
       "3          7.7        -73.987130        40.733143         -73.991567   \n",
       "\n",
       "   dropoff_latitude  passenger_count    distance  dates  date_map  \n",
       "0         40.712278                1   94.358403  06-15       166  \n",
       "1         40.782004                1  796.956699  01-05         4  \n",
       "2         40.750562                2  136.740367  08-18       230  \n",
       "3         40.758092                1  253.404730  04-21       111  "
      ]
     },
     "execution_count": 14,
     "metadata": {},
     "output_type": "execute_result"
    }
   ],
   "source": [
    "df.head(4)"
   ]
  },
  {
   "cell_type": "code",
   "execution_count": 15,
   "id": "23fff531",
   "metadata": {},
   "outputs": [
    {
     "data": {
      "text/plain": [
       "fare_amount          float64\n",
       "pickup_longitude     float64\n",
       "pickup_latitude      float64\n",
       "dropoff_longitude    float64\n",
       "dropoff_latitude     float64\n",
       "passenger_count        int64\n",
       "distance             float64\n",
       "dates                 object\n",
       "date_map               int64\n",
       "dtype: object"
      ]
     },
     "execution_count": 15,
     "metadata": {},
     "output_type": "execute_result"
    }
   ],
   "source": [
    "df.dtypes"
   ]
  },
  {
   "cell_type": "code",
   "execution_count": 16,
   "id": "62591689",
   "metadata": {},
   "outputs": [],
   "source": [
    "from sklearn.model_selection import train_test_split"
   ]
  },
  {
   "cell_type": "code",
   "execution_count": 17,
   "id": "a184e888",
   "metadata": {},
   "outputs": [],
   "source": [
    "from sklearn.neighbors import KNeighborsRegressor"
   ]
  },
  {
   "cell_type": "code",
   "execution_count": 18,
   "id": "2ca2559c",
   "metadata": {},
   "outputs": [],
   "source": [
    "from joblib import Parallel, delayed"
   ]
  },
  {
   "cell_type": "code",
   "execution_count": 19,
   "id": "80a527a1",
   "metadata": {},
   "outputs": [],
   "source": [
    "from sklearn.metrics import mean_squared_error\n",
    "from sklearn.metrics import accuracy_score\n",
    "from sklearn.metrics import roc_auc_score\n",
    "from sklearn.metrics import classification_report, confusion_matrix\n",
    "\n",
    "from math import sqrt"
   ]
  },
  {
   "cell_type": "code",
   "execution_count": 20,
   "id": "6c3b4681",
   "metadata": {},
   "outputs": [],
   "source": [
    "#predictors=['passenger_count','date_map','pickup_longitude',\n",
    "#            'pickup_latitude','dropoff_longitude','dropoff_latitude']\n",
    "predictors=['date_map','distance','passenger_count']\n",
    "### Predictores de Diego\n",
    "#predictors=['passenger_count','distance','date_map']\n"
   ]
  },
  {
   "cell_type": "code",
   "execution_count": 21,
   "id": "dc62c781",
   "metadata": {},
   "outputs": [],
   "source": [
    "X_train,X_test,y_train,y_test = train_test_split(df[predictors], df['fare_amount'],\n",
    "                                 test_size=0.3,  random_state=42)"
   ]
  },
  {
   "cell_type": "code",
   "execution_count": 22,
   "id": "fcd237ca",
   "metadata": {},
   "outputs": [],
   "source": [
    "knn_model = KNeighborsRegressor(n_neighbors=11, n_jobs=14)"
   ]
  },
  {
   "cell_type": "code",
   "execution_count": 23,
   "id": "ccdada26",
   "metadata": {},
   "outputs": [
    {
     "data": {
      "text/plain": [
       "KNeighborsRegressor(n_jobs=14, n_neighbors=11)"
      ]
     },
     "execution_count": 23,
     "metadata": {},
     "output_type": "execute_result"
    }
   ],
   "source": [
    "knn_model.fit(X_train, y_train)"
   ]
  },
  {
   "cell_type": "code",
   "execution_count": 24,
   "id": "bbbf98ae",
   "metadata": {},
   "outputs": [
    {
     "name": "stdout",
     "output_type": "stream",
     "text": [
      "###### Train group #########\n",
      "Error MSE: 17.319921868382686\n",
      "Error RMSE: 4.161721022411604\n"
     ]
    }
   ],
   "source": [
    "train_preds = knn_model.predict(X_train)\n",
    "mse1 = mean_squared_error(y_train, train_preds)\n",
    "rmse1 = sqrt(mse1)\n",
    "print('###### Train group #########')\n",
    "print('Error MSE:',mse1)\n",
    "print('Error RMSE:',rmse1)"
   ]
  },
  {
   "cell_type": "code",
   "execution_count": 25,
   "id": "0c147d02",
   "metadata": {},
   "outputs": [
    {
     "name": "stdout",
     "output_type": "stream",
     "text": [
      "###### Train group #########\n",
      "Error MSE: 20.397420350136457\n",
      "Error RMSE: 4.516350335186195\n"
     ]
    }
   ],
   "source": [
    "test_preds = knn_model.predict(X_test)\n",
    "mse2 = mean_squared_error(y_test, test_preds)\n",
    "rmse2 = sqrt(mse2)\n",
    "print('###### Train group #########')\n",
    "print('Error MSE:',mse2)\n",
    "print('Error RMSE:',rmse2)"
   ]
  },
  {
   "cell_type": "code",
   "execution_count": 26,
   "id": "01aad033",
   "metadata": {},
   "outputs": [
    {
     "name": "stdout",
     "output_type": "stream",
     "text": [
      "Score Train: 0.8117123179258713\n",
      "Score Test: 0.776941878205749\n"
     ]
    }
   ],
   "source": [
    "score_mod = knn_model.score(X_train, y_train)\n",
    "print('Score Train:',score_mod)\n",
    "score_mod = knn_model.score(X_test, y_test)\n",
    "print('Score Test:',score_mod)"
   ]
  },
  {
   "cell_type": "code",
   "execution_count": null,
   "id": "57d42fa9",
   "metadata": {},
   "outputs": [],
   "source": [
    "#from sklearn.model_selection import GridSearchCV\n",
    "#parameters = {\"n_neighbors\": [3,5,7,11]}\n",
    "#gridsearch = GridSearchCV(\n",
    "#    KNeighborsRegressor(), \n",
    "#    parameters, n_jobs=14)\n",
    "#gs_results = gridsearch.fit(X_train, y_train)\n"
   ]
  },
  {
   "cell_type": "code",
   "execution_count": null,
   "id": "897d712a",
   "metadata": {},
   "outputs": [],
   "source": [
    "#gs_results.best_score_"
   ]
  },
  {
   "cell_type": "code",
   "execution_count": null,
   "id": "7357e6c9",
   "metadata": {},
   "outputs": [],
   "source": [
    "#gs_results.best_estimator_"
   ]
  },
  {
   "cell_type": "code",
   "execution_count": null,
   "id": "17d62426",
   "metadata": {},
   "outputs": [],
   "source": [
    "#gs_results.best_params_"
   ]
  },
  {
   "cell_type": "code",
   "execution_count": null,
   "id": "9145116d",
   "metadata": {},
   "outputs": [],
   "source": [
    "#train_preds_grid = gridsearch.predict(X_train)\n",
    "#train_mse = mean_squared_error(y_train, train_preds_grid)\n",
    "#train_rmse = sqrt(train_mse)\n",
    "#test_preds_grid = gridsearch.predict(X_test)\n",
    "#test_mse = mean_squared_error(y_test, test_preds_grid)\n",
    "#test_rmse = sqrt(test_mse)"
   ]
  },
  {
   "cell_type": "code",
   "execution_count": null,
   "id": "56b9ba14",
   "metadata": {},
   "outputs": [],
   "source": [
    "#print('train rmse: ',train_rmse,'test rmse: ',test_rmse)"
   ]
  },
  {
   "cell_type": "code",
   "execution_count": null,
   "id": "9f6ae403",
   "metadata": {},
   "outputs": [],
   "source": [
    "#train_preds_grid = gridsearch.predict(X_train)"
   ]
  },
  {
   "cell_type": "markdown",
   "id": "8a7eae17",
   "metadata": {},
   "source": [
    "## MODELO RANDOM FOREST"
   ]
  },
  {
   "cell_type": "code",
   "execution_count": 27,
   "id": "fe7fe9e2",
   "metadata": {},
   "outputs": [],
   "source": [
    "from sklearn.ensemble import RandomForestRegressor"
   ]
  },
  {
   "cell_type": "code",
   "execution_count": 28,
   "id": "b6528b83",
   "metadata": {},
   "outputs": [],
   "source": [
    "rfr_model = RandomForestRegressor(n_estimators = 500, max_depth = 8, \n",
    "                                  n_jobs=14, random_state=42)"
   ]
  },
  {
   "cell_type": "code",
   "execution_count": 29,
   "id": "1a9e7612",
   "metadata": {},
   "outputs": [
    {
     "data": {
      "text/plain": [
       "RandomForestRegressor(max_depth=8, n_estimators=500, n_jobs=14, random_state=42)"
      ]
     },
     "execution_count": 29,
     "metadata": {},
     "output_type": "execute_result"
    }
   ],
   "source": [
    "rfr_model.fit(X_train, y_train)"
   ]
  },
  {
   "cell_type": "code",
   "execution_count": 31,
   "id": "bea4b241",
   "metadata": {},
   "outputs": [
    {
     "name": "stdout",
     "output_type": "stream",
     "text": [
      "###### Train group #########\n",
      "Error MSE: 18.98367511421161\n",
      "Error RMSE: 4.357025948305979\n",
      "Score: 0.7952784908978769\n"
     ]
    }
   ],
   "source": [
    "    #Comprobación\n",
    "train_preds = rfr_model.predict(X_train)\n",
    "mse1 = mean_squared_error(y_train, train_preds)\n",
    "rmse1 = sqrt(mse1)\n",
    "print('###### Train group #########')\n",
    "print('Error MSE:',mse1)\n",
    "print('Error RMSE:',rmse1)\n",
    "print('Score:',rfr_model.score(X_test, y_test))"
   ]
  },
  {
   "cell_type": "code",
   "execution_count": 32,
   "id": "0e075fca",
   "metadata": {},
   "outputs": [
    {
     "name": "stdout",
     "output_type": "stream",
     "text": [
      "###### Test group #########\n",
      "Error MSE: 18.720639456123656\n",
      "Error RMSE: 4.326735427100166\n"
     ]
    }
   ],
   "source": [
    "test_preds = rfr_model.predict(X_test)\n",
    "mse2 = mean_squared_error(y_test, test_preds)\n",
    "rmse2 = sqrt(mse2)\n",
    "print('###### Test group #########')\n",
    "print('Error MSE:',mse2)\n",
    "print('Error RMSE:',rmse2)"
   ]
  },
  {
   "cell_type": "markdown",
   "id": "b07e1077",
   "metadata": {},
   "source": [
    "## MODELO REGRESION LINEAL MULTIPLE"
   ]
  },
  {
   "cell_type": "code",
   "execution_count": 26,
   "id": "e9bcc2bf",
   "metadata": {},
   "outputs": [],
   "source": [
    "from sklearn import linear_model"
   ]
  },
  {
   "cell_type": "code",
   "execution_count": 27,
   "id": "476ab343",
   "metadata": {},
   "outputs": [],
   "source": [
    "lrm_model = linear_model.LinearRegression(n_jobs=14,normalize=True)"
   ]
  },
  {
   "cell_type": "code",
   "execution_count": 28,
   "id": "e7d8f4fe",
   "metadata": {},
   "outputs": [
    {
     "data": {
      "text/plain": [
       "LinearRegression(n_jobs=14, normalize=True)"
      ]
     },
     "execution_count": 28,
     "metadata": {},
     "output_type": "execute_result"
    }
   ],
   "source": [
    "lrm_model.fit(X_train, y_train)"
   ]
  },
  {
   "cell_type": "code",
   "execution_count": 32,
   "id": "16cef896",
   "metadata": {},
   "outputs": [
    {
     "name": "stdout",
     "output_type": "stream",
     "text": [
      "###### Train group #########\n",
      "Error MSE: 91.82532777532909\n",
      "Error RMSE: 9.582553301460372\n",
      "Score: 0.002348972792554971\n"
     ]
    }
   ],
   "source": [
    "    #Comprobación\n",
    "train_preds_lmr = lrm_model.predict(X_train)\n",
    "mse_lrm1 = mean_squared_error(y_train, train_preds_lmr)\n",
    "rmse_lrm = sqrt(mse_lrm1)\n",
    "print('###### Train group #########')\n",
    "print('Error MSE:',mse_lrm1)\n",
    "print('Error RMSE:',rmse_lrm)\n",
    "print('Score:',lrm_model.score(X_train, y_train))"
   ]
  },
  {
   "cell_type": "code",
   "execution_count": 33,
   "id": "532f90b7",
   "metadata": {},
   "outputs": [
    {
     "name": "stdout",
     "output_type": "stream",
     "text": [
      "###### Train group #########\n",
      "Error MSE: 92.47434355732418\n",
      "Error RMSE: 9.616358123391837\n",
      "Score: 0.002287648596363878\n"
     ]
    }
   ],
   "source": [
    "test_preds_lmr = lrm_model.predict(X_test)\n",
    "mse_lrm2 = mean_squared_error(y_test, test_preds_lmr)\n",
    "rmse_lrm2 = sqrt(mse_lrm2)\n",
    "print('###### Test group #########')\n",
    "print('Error MSE:',mse_lrm2)\n",
    "print('Error RMSE:',rmse_lrm2)\n",
    "print('Score:',lrm_model.score(X_test, y_test))"
   ]
  },
  {
   "cell_type": "code",
   "execution_count": null,
   "id": "38c28d2c",
   "metadata": {},
   "outputs": [],
   "source": []
  },
  {
   "cell_type": "markdown",
   "id": "cd4fb408",
   "metadata": {},
   "source": [
    "## Gradient Boost regression"
   ]
  },
  {
   "cell_type": "code",
   "execution_count": 33,
   "id": "ddffc08c",
   "metadata": {},
   "outputs": [],
   "source": [
    "from sklearn.ensemble import GradientBoostingRegressor"
   ]
  },
  {
   "cell_type": "code",
   "execution_count": 34,
   "id": "a177451e",
   "metadata": {},
   "outputs": [],
   "source": [
    "X_train,X_test,y_train,y_test = train_test_split(df[predictors], df['fare_amount'],\n",
    "                                 test_size=0.3,  random_state=42)"
   ]
  },
  {
   "cell_type": "code",
   "execution_count": 35,
   "id": "caf49f6a",
   "metadata": {},
   "outputs": [],
   "source": [
    "gbr = GradientBoostingRegressor(max_depth=3,\n",
    "                                n_estimators=250,\n",
    "                                learning_rate = 0.15,\n",
    "                               random_state=0)"
   ]
  },
  {
   "cell_type": "code",
   "execution_count": 36,
   "id": "94a9c94d",
   "metadata": {},
   "outputs": [],
   "source": [
    "gbr_model = gbr.fit(X_train, y_train)"
   ]
  },
  {
   "cell_type": "code",
   "execution_count": 37,
   "id": "2786b2e2",
   "metadata": {},
   "outputs": [
    {
     "name": "stdout",
     "output_type": "stream",
     "text": [
      "###### Train group #########\n",
      "Error MSE: 18.836382482289974\n",
      "Error RMSE: 4.340090146793034\n",
      "Score: 0.7952266284337872\n"
     ]
    }
   ],
   "source": [
    "train_preds_gbr = gbr_model.predict(X_train)\n",
    "mse_lrm1 = mean_squared_error(y_train, train_preds_gbr)\n",
    "rmse_lrm = sqrt(mse_lrm1)\n",
    "print('###### Train group #########')\n",
    "print('Error MSE:',mse_lrm1)\n",
    "print('Error RMSE:',rmse_lrm)\n",
    "print('Score:',gbr_model.score(X_train, y_train))"
   ]
  },
  {
   "cell_type": "code",
   "execution_count": 38,
   "id": "d79590d3",
   "metadata": {},
   "outputs": [
    {
     "name": "stdout",
     "output_type": "stream",
     "text": [
      "###### Test group #########\n",
      "Error MSE: 18.65956279497048\n",
      "Error RMSE: 4.319671607306565\n",
      "Score: 0.7959464011085031\n"
     ]
    }
   ],
   "source": [
    "train_preds_gbr = gbr_model.predict(X_test)\n",
    "mse_lrm2 = mean_squared_error(y_test, train_preds_gbr)\n",
    "rmse_lrm2 = sqrt(mse_lrm2)\n",
    "print('###### Test group #########')\n",
    "print('Error MSE:',mse_lrm2)\n",
    "print('Error RMSE:',rmse_lrm2)\n",
    "print('Score:',gbr_model.score(X_test, y_test))"
   ]
  }
 ],
 "metadata": {
  "kernelspec": {
   "display_name": "Python 3",
   "language": "python",
   "name": "python3"
  },
  "language_info": {
   "codemirror_mode": {
    "name": "ipython",
    "version": 3
   },
   "file_extension": ".py",
   "mimetype": "text/x-python",
   "name": "python",
   "nbconvert_exporter": "python",
   "pygments_lexer": "ipython3",
   "version": "3.9.1"
  }
 },
 "nbformat": 4,
 "nbformat_minor": 5
}
