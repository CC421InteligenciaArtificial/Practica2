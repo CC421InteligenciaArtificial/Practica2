{
 "cells": [
  {
   "cell_type": "markdown",
   "id": "00ea5680",
   "metadata": {},
   "source": [
    "# Entrenando Modelos"
   ]
  },
  {
   "cell_type": "markdown",
   "id": "521a9aec",
   "metadata": {},
   "source": [
    "Importamos los modulos a usar"
   ]
  },
  {
   "cell_type": "code",
   "execution_count": 1,
   "id": "7b04b1e5",
   "metadata": {},
   "outputs": [],
   "source": [
    "import pandas as pd\n",
    "from sklearn.neighbors import KNeighborsRegressor\n",
    "from sklearn.linear_model import LinearRegression\n",
    "from sklearn.model_selection import train_test_split\n",
    "from sklearn.metrics import mean_squared_error\n",
    "from math import sqrt"
   ]
  },
  {
   "cell_type": "markdown",
   "id": "9befeb41",
   "metadata": {},
   "source": [
    "Cargamos 15 millones de filas de la data"
   ]
  },
  {
   "cell_type": "code",
   "execution_count": 2,
   "id": "2fb27b15",
   "metadata": {},
   "outputs": [],
   "source": [
    "df = pd.read_csv('dataframe.csv', nrows = 15000000)"
   ]
  },
  {
   "cell_type": "code",
   "execution_count": 3,
   "id": "3a0eeb42",
   "metadata": {
    "scrolled": false
   },
   "outputs": [
    {
     "data": {
      "text/html": [
       "<div>\n",
       "<style scoped>\n",
       "    .dataframe tbody tr th:only-of-type {\n",
       "        vertical-align: middle;\n",
       "    }\n",
       "\n",
       "    .dataframe tbody tr th {\n",
       "        vertical-align: top;\n",
       "    }\n",
       "\n",
       "    .dataframe thead th {\n",
       "        text-align: right;\n",
       "    }\n",
       "</style>\n",
       "<table border=\"1\" class=\"dataframe\">\n",
       "  <thead>\n",
       "    <tr style=\"text-align: right;\">\n",
       "      <th></th>\n",
       "      <th>fare_amount</th>\n",
       "      <th>pickup_longitude</th>\n",
       "      <th>pickup_latitude</th>\n",
       "      <th>dropoff_longitude</th>\n",
       "      <th>dropoff_latitude</th>\n",
       "      <th>passenger_count</th>\n",
       "      <th>distance</th>\n",
       "      <th>dates</th>\n",
       "    </tr>\n",
       "  </thead>\n",
       "  <tbody>\n",
       "    <tr>\n",
       "      <th>0</th>\n",
       "      <td>4.5</td>\n",
       "      <td>-73.844311</td>\n",
       "      <td>40.721319</td>\n",
       "      <td>-73.841610</td>\n",
       "      <td>40.712278</td>\n",
       "      <td>1</td>\n",
       "      <td>94.358403</td>\n",
       "      <td>06-15</td>\n",
       "    </tr>\n",
       "    <tr>\n",
       "      <th>1</th>\n",
       "      <td>16.9</td>\n",
       "      <td>-74.016048</td>\n",
       "      <td>40.711303</td>\n",
       "      <td>-73.979268</td>\n",
       "      <td>40.782004</td>\n",
       "      <td>1</td>\n",
       "      <td>796.956699</td>\n",
       "      <td>01-05</td>\n",
       "    </tr>\n",
       "    <tr>\n",
       "      <th>2</th>\n",
       "      <td>5.7</td>\n",
       "      <td>-73.982738</td>\n",
       "      <td>40.761270</td>\n",
       "      <td>-73.991242</td>\n",
       "      <td>40.750562</td>\n",
       "      <td>2</td>\n",
       "      <td>136.740367</td>\n",
       "      <td>08-18</td>\n",
       "    </tr>\n",
       "    <tr>\n",
       "      <th>3</th>\n",
       "      <td>7.7</td>\n",
       "      <td>-73.987130</td>\n",
       "      <td>40.733143</td>\n",
       "      <td>-73.991567</td>\n",
       "      <td>40.758092</td>\n",
       "      <td>1</td>\n",
       "      <td>253.404730</td>\n",
       "      <td>04-21</td>\n",
       "    </tr>\n",
       "    <tr>\n",
       "      <th>4</th>\n",
       "      <td>5.3</td>\n",
       "      <td>-73.968095</td>\n",
       "      <td>40.768008</td>\n",
       "      <td>-73.956655</td>\n",
       "      <td>40.783762</td>\n",
       "      <td>1</td>\n",
       "      <td>194.695176</td>\n",
       "      <td>03-09</td>\n",
       "    </tr>\n",
       "  </tbody>\n",
       "</table>\n",
       "</div>"
      ],
      "text/plain": [
       "   fare_amount  pickup_longitude  pickup_latitude  dropoff_longitude  \\\n",
       "0          4.5        -73.844311        40.721319         -73.841610   \n",
       "1         16.9        -74.016048        40.711303         -73.979268   \n",
       "2          5.7        -73.982738        40.761270         -73.991242   \n",
       "3          7.7        -73.987130        40.733143         -73.991567   \n",
       "4          5.3        -73.968095        40.768008         -73.956655   \n",
       "\n",
       "   dropoff_latitude  passenger_count    distance  dates  \n",
       "0         40.712278                1   94.358403  06-15  \n",
       "1         40.782004                1  796.956699  01-05  \n",
       "2         40.750562                2  136.740367  08-18  \n",
       "3         40.758092                1  253.404730  04-21  \n",
       "4         40.783762                1  194.695176  03-09  "
      ]
     },
     "execution_count": 3,
     "metadata": {},
     "output_type": "execute_result"
    }
   ],
   "source": [
    "df.head(5)"
   ]
  },
  {
   "cell_type": "markdown",
   "id": "dea2d2ee",
   "metadata": {},
   "source": [
    "Crearemos un diccionario para asiganar un \"date\" a un número"
   ]
  },
  {
   "cell_type": "code",
   "execution_count": 4,
   "id": "8004076a",
   "metadata": {},
   "outputs": [],
   "source": [
    "dates_dict = {k: i for i,k in enumerate(df.dates.unique(), 0)}"
   ]
  },
  {
   "cell_type": "code",
   "execution_count": 5,
   "id": "2e055de2",
   "metadata": {},
   "outputs": [],
   "source": [
    "df.loc[:, 'dates_mapeo'] = df.loc[:, 'dates'].map(dates_dict)"
   ]
  },
  {
   "cell_type": "code",
   "execution_count": 6,
   "id": "8d170cd8",
   "metadata": {
    "scrolled": false
   },
   "outputs": [
    {
     "data": {
      "text/html": [
       "<div>\n",
       "<style scoped>\n",
       "    .dataframe tbody tr th:only-of-type {\n",
       "        vertical-align: middle;\n",
       "    }\n",
       "\n",
       "    .dataframe tbody tr th {\n",
       "        vertical-align: top;\n",
       "    }\n",
       "\n",
       "    .dataframe thead th {\n",
       "        text-align: right;\n",
       "    }\n",
       "</style>\n",
       "<table border=\"1\" class=\"dataframe\">\n",
       "  <thead>\n",
       "    <tr style=\"text-align: right;\">\n",
       "      <th></th>\n",
       "      <th>fare_amount</th>\n",
       "      <th>pickup_longitude</th>\n",
       "      <th>pickup_latitude</th>\n",
       "      <th>dropoff_longitude</th>\n",
       "      <th>dropoff_latitude</th>\n",
       "      <th>passenger_count</th>\n",
       "      <th>distance</th>\n",
       "      <th>dates</th>\n",
       "      <th>dates_mapeo</th>\n",
       "    </tr>\n",
       "  </thead>\n",
       "  <tbody>\n",
       "    <tr>\n",
       "      <th>0</th>\n",
       "      <td>4.5</td>\n",
       "      <td>-73.844311</td>\n",
       "      <td>40.721319</td>\n",
       "      <td>-73.841610</td>\n",
       "      <td>40.712278</td>\n",
       "      <td>1</td>\n",
       "      <td>94.358403</td>\n",
       "      <td>06-15</td>\n",
       "      <td>0</td>\n",
       "    </tr>\n",
       "    <tr>\n",
       "      <th>1</th>\n",
       "      <td>16.9</td>\n",
       "      <td>-74.016048</td>\n",
       "      <td>40.711303</td>\n",
       "      <td>-73.979268</td>\n",
       "      <td>40.782004</td>\n",
       "      <td>1</td>\n",
       "      <td>796.956699</td>\n",
       "      <td>01-05</td>\n",
       "      <td>1</td>\n",
       "    </tr>\n",
       "    <tr>\n",
       "      <th>2</th>\n",
       "      <td>5.7</td>\n",
       "      <td>-73.982738</td>\n",
       "      <td>40.761270</td>\n",
       "      <td>-73.991242</td>\n",
       "      <td>40.750562</td>\n",
       "      <td>2</td>\n",
       "      <td>136.740367</td>\n",
       "      <td>08-18</td>\n",
       "      <td>2</td>\n",
       "    </tr>\n",
       "    <tr>\n",
       "      <th>3</th>\n",
       "      <td>7.7</td>\n",
       "      <td>-73.987130</td>\n",
       "      <td>40.733143</td>\n",
       "      <td>-73.991567</td>\n",
       "      <td>40.758092</td>\n",
       "      <td>1</td>\n",
       "      <td>253.404730</td>\n",
       "      <td>04-21</td>\n",
       "      <td>3</td>\n",
       "    </tr>\n",
       "    <tr>\n",
       "      <th>4</th>\n",
       "      <td>5.3</td>\n",
       "      <td>-73.968095</td>\n",
       "      <td>40.768008</td>\n",
       "      <td>-73.956655</td>\n",
       "      <td>40.783762</td>\n",
       "      <td>1</td>\n",
       "      <td>194.695176</td>\n",
       "      <td>03-09</td>\n",
       "      <td>4</td>\n",
       "    </tr>\n",
       "    <tr>\n",
       "      <th>5</th>\n",
       "      <td>12.1</td>\n",
       "      <td>-74.000964</td>\n",
       "      <td>40.731630</td>\n",
       "      <td>-73.972892</td>\n",
       "      <td>40.758233</td>\n",
       "      <td>1</td>\n",
       "      <td>386.750151</td>\n",
       "      <td>01-06</td>\n",
       "      <td>5</td>\n",
       "    </tr>\n",
       "    <tr>\n",
       "      <th>6</th>\n",
       "      <td>7.5</td>\n",
       "      <td>-73.980002</td>\n",
       "      <td>40.751662</td>\n",
       "      <td>-73.973802</td>\n",
       "      <td>40.764842</td>\n",
       "      <td>1</td>\n",
       "      <td>145.654523</td>\n",
       "      <td>11-20</td>\n",
       "      <td>6</td>\n",
       "    </tr>\n",
       "    <tr>\n",
       "      <th>7</th>\n",
       "      <td>16.5</td>\n",
       "      <td>-73.951300</td>\n",
       "      <td>40.774138</td>\n",
       "      <td>-73.990095</td>\n",
       "      <td>40.751048</td>\n",
       "      <td>1</td>\n",
       "      <td>451.464298</td>\n",
       "      <td>01-04</td>\n",
       "      <td>7</td>\n",
       "    </tr>\n",
       "    <tr>\n",
       "      <th>8</th>\n",
       "      <td>9.0</td>\n",
       "      <td>-74.006462</td>\n",
       "      <td>40.726713</td>\n",
       "      <td>-73.993078</td>\n",
       "      <td>40.731628</td>\n",
       "      <td>1</td>\n",
       "      <td>142.579340</td>\n",
       "      <td>12-03</td>\n",
       "      <td>8</td>\n",
       "    </tr>\n",
       "    <tr>\n",
       "      <th>9</th>\n",
       "      <td>8.9</td>\n",
       "      <td>-73.980658</td>\n",
       "      <td>40.733873</td>\n",
       "      <td>-73.991540</td>\n",
       "      <td>40.758138</td>\n",
       "      <td>2</td>\n",
       "      <td>265.933854</td>\n",
       "      <td>09-02</td>\n",
       "      <td>9</td>\n",
       "    </tr>\n",
       "  </tbody>\n",
       "</table>\n",
       "</div>"
      ],
      "text/plain": [
       "   fare_amount  pickup_longitude  pickup_latitude  dropoff_longitude  \\\n",
       "0          4.5        -73.844311        40.721319         -73.841610   \n",
       "1         16.9        -74.016048        40.711303         -73.979268   \n",
       "2          5.7        -73.982738        40.761270         -73.991242   \n",
       "3          7.7        -73.987130        40.733143         -73.991567   \n",
       "4          5.3        -73.968095        40.768008         -73.956655   \n",
       "5         12.1        -74.000964        40.731630         -73.972892   \n",
       "6          7.5        -73.980002        40.751662         -73.973802   \n",
       "7         16.5        -73.951300        40.774138         -73.990095   \n",
       "8          9.0        -74.006462        40.726713         -73.993078   \n",
       "9          8.9        -73.980658        40.733873         -73.991540   \n",
       "\n",
       "   dropoff_latitude  passenger_count    distance  dates  dates_mapeo  \n",
       "0         40.712278                1   94.358403  06-15            0  \n",
       "1         40.782004                1  796.956699  01-05            1  \n",
       "2         40.750562                2  136.740367  08-18            2  \n",
       "3         40.758092                1  253.404730  04-21            3  \n",
       "4         40.783762                1  194.695176  03-09            4  \n",
       "5         40.758233                1  386.750151  01-06            5  \n",
       "6         40.764842                1  145.654523  11-20            6  \n",
       "7         40.751048                1  451.464298  01-04            7  \n",
       "8         40.731628                1  142.579340  12-03            8  \n",
       "9         40.758138                2  265.933854  09-02            9  "
      ]
     },
     "execution_count": 6,
     "metadata": {},
     "output_type": "execute_result"
    }
   ],
   "source": [
    "df.head(10)"
   ]
  },
  {
   "cell_type": "code",
   "execution_count": 7,
   "id": "48760448",
   "metadata": {
    "scrolled": true
   },
   "outputs": [
    {
     "data": {
      "text/plain": [
       "array([  0,   1,   2,   3,   4,   5,   6,   7,   8,   9,  10,  11,  12,\n",
       "        13,  14,  15,  16,  17,  18,  19,  20,  21,  22,  23,  24,  25,\n",
       "        26,  27,  28,  29,  30,  31,  32,  33,  34,  35,  36,  37,  38,\n",
       "        39,  40,  41,  42,  43,  44,  45,  46,  47,  48,  49,  50,  51,\n",
       "        52,  53,  54,  55,  56,  57,  58,  59,  60,  61,  62,  63,  64,\n",
       "        65,  66,  67,  68,  69,  70,  71,  72,  73,  74,  75,  76,  77,\n",
       "        78,  79,  80,  81,  82,  83,  84,  85,  86,  87,  88,  89,  90,\n",
       "        91,  92,  93,  94,  95,  96,  97,  98,  99, 100, 101, 102, 103,\n",
       "       104, 105, 106, 107, 108, 109, 110, 111, 112, 113, 114, 115, 116,\n",
       "       117, 118, 119, 120, 121, 122, 123, 124, 125, 126, 127, 128, 129,\n",
       "       130, 131, 132, 133, 134, 135, 136, 137, 138, 139, 140, 141, 142,\n",
       "       143, 144, 145, 146, 147, 148, 149, 150, 151, 152, 153, 154, 155,\n",
       "       156, 157, 158, 159, 160, 161, 162, 163, 164, 165, 166, 167, 168,\n",
       "       169, 170, 171, 172, 173, 174, 175, 176, 177, 178, 179, 180, 181,\n",
       "       182, 183, 184, 185, 186, 187, 188, 189, 190, 191, 192, 193, 194,\n",
       "       195, 196, 197, 198, 199, 200, 201, 202, 203, 204, 205, 206, 207,\n",
       "       208, 209, 210, 211, 212, 213, 214, 215, 216, 217, 218, 219, 220,\n",
       "       221, 222, 223, 224, 225, 226, 227, 228, 229, 230, 231, 232, 233,\n",
       "       234, 235, 236, 237, 238, 239, 240, 241, 242, 243, 244, 245, 246,\n",
       "       247, 248, 249, 250, 251, 252, 253, 254, 255, 256, 257, 258, 259,\n",
       "       260, 261, 262, 263, 264, 265, 266, 267, 268, 269, 270, 271, 272,\n",
       "       273, 274, 275, 276, 277, 278, 279, 280, 281, 282, 283, 284, 285,\n",
       "       286, 287, 288, 289, 290, 291, 292, 293, 294, 295, 296, 297, 298,\n",
       "       299, 300, 301, 302, 303, 304, 305, 306, 307, 308, 309, 310, 311,\n",
       "       312, 313, 314, 315, 316, 317, 318, 319, 320, 321, 322, 323, 324,\n",
       "       325, 326, 327, 328, 329, 330, 331, 332, 333, 334, 335, 336, 337,\n",
       "       338, 339, 340, 341, 342, 343, 344, 345, 346, 347, 348, 349, 350,\n",
       "       351, 352, 353, 354, 355, 356, 357, 358, 359, 360, 361, 362, 363,\n",
       "       364, 365], dtype=int64)"
      ]
     },
     "execution_count": 7,
     "metadata": {},
     "output_type": "execute_result"
    }
   ],
   "source": [
    "df.dates_mapeo.unique()"
   ]
  },
  {
   "cell_type": "markdown",
   "id": "4c2a834e",
   "metadata": {},
   "source": [
    "Hecho esto, procedemos a seleccionar los predictores y la separación de la data para el entrenamiento y las pruebas."
   ]
  },
  {
   "cell_type": "code",
   "execution_count": 8,
   "id": "0b842bef",
   "metadata": {},
   "outputs": [],
   "source": [
    "predictors = ['passenger_count', 'pickup_longitude', 'pickup_latitude', 'dropoff_longitude',\n",
    "              'dropoff_latitude', 'dates_mapeo']\n",
    "salida = 'fare_amount'\n",
    "\n",
    "X_train, X_test, y_train, y_test = train_test_split(\n",
    "    df[predictors],\n",
    "    df[salida],\n",
    "    test_size=0.3,\n",
    "    random_state=0\n",
    ")"
   ]
  },
  {
   "cell_type": "markdown",
   "id": "ed60e2d8",
   "metadata": {},
   "source": [
    "## Modelo KNeighborsRegressor"
   ]
  },
  {
   "cell_type": "markdown",
   "id": "5ee46aa1",
   "metadata": {},
   "source": [
    "Empezamos creando el modelo y empezamos su entrenamiento"
   ]
  },
  {
   "cell_type": "code",
   "execution_count": 15,
   "id": "910026a3",
   "metadata": {},
   "outputs": [
    {
     "data": {
      "text/plain": [
       "KNeighborsRegressor(n_jobs=4, n_neighbors=9, weights='distance')"
      ]
     },
     "execution_count": 15,
     "metadata": {},
     "output_type": "execute_result"
    }
   ],
   "source": [
    "knn_regre = KNeighborsRegressor(n_neighbors = 9, weights = 'distance', n_jobs = 4)\n",
    "knn_regre.fit(X_train, y_train)"
   ]
  },
  {
   "cell_type": "code",
   "execution_count": 16,
   "id": "719a96be",
   "metadata": {},
   "outputs": [
    {
     "name": "stdout",
     "output_type": "stream",
     "text": [
      "###########TRAIN###########\n",
      "MSE 6.595238095238095e-07\n",
      "RMSE 0.0008121107126025425\n"
     ]
    }
   ],
   "source": [
    "train_preds = knn_regre.predict(X_train)\n",
    "mse1 = mean_squared_error(y_train, train_preds)\n",
    "rmse1 = sqrt(mse1)\n",
    "print(\"###########TRAIN###########\")\n",
    "print(\"MSE\", mse1)\n",
    "print(\"RMSE\", rmse1)"
   ]
  },
  {
   "cell_type": "markdown",
   "id": "72a53354",
   "metadata": {},
   "source": [
    "Calculamos el MSE y el RMSE del modelo"
   ]
  },
  {
   "cell_type": "code",
   "execution_count": 17,
   "id": "82a7cc37",
   "metadata": {},
   "outputs": [
    {
     "name": "stdout",
     "output_type": "stream",
     "text": [
      "###########TEST###########\n",
      "MSE 20.035895930927875\n",
      "RMSE 4.476147442938835\n"
     ]
    }
   ],
   "source": [
    "train_preds1 = knn_regre.predict(X_test)\n",
    "mse2 = mean_squared_error(y_test, train_preds1)\n",
    "rmse2 = sqrt(mse2)\n",
    "print(\"###########TEST###########\")\n",
    "print(\"MSE\", mse2)\n",
    "print(\"RMSE\", rmse2)"
   ]
  },
  {
   "cell_type": "markdown",
   "id": "ca59a1fb",
   "metadata": {},
   "source": [
    "Calculamos el puntaje del modelo"
   ]
  },
  {
   "cell_type": "code",
   "execution_count": 18,
   "id": "4ea9bcc2",
   "metadata": {},
   "outputs": [
    {
     "name": "stdout",
     "output_type": "stream",
     "text": [
      "Score: 0.7828028970119453\n"
     ]
    }
   ],
   "source": [
    "score_m = knn_regre.score(X_test, y_test)\n",
    "print(\"Score:\", score_m)"
   ]
  },
  {
   "cell_type": "markdown",
   "id": "adcc3013",
   "metadata": {},
   "source": [
    "# Modelo LinearRegression"
   ]
  },
  {
   "cell_type": "markdown",
   "id": "3ed52ee5",
   "metadata": {},
   "source": [
    "Creamos el modelo y empezamos su entrenamiento"
   ]
  },
  {
   "cell_type": "code",
   "execution_count": 9,
   "id": "dd535ca6",
   "metadata": {},
   "outputs": [
    {
     "data": {
      "text/plain": [
       "LinearRegression(n_jobs=-1)"
      ]
     },
     "execution_count": 9,
     "metadata": {},
     "output_type": "execute_result"
    }
   ],
   "source": [
    "clf = LinearRegression(n_jobs = -1)\n",
    "clf.fit(X_train, y_train)"
   ]
  },
  {
   "cell_type": "code",
   "execution_count": 10,
   "id": "e1eb698c",
   "metadata": {},
   "outputs": [
    {
     "name": "stdout",
     "output_type": "stream",
     "text": [
      "###########TRAIN###########\n",
      "MSE 91.59847853079197\n",
      "RMSE 9.570709405827342\n"
     ]
    }
   ],
   "source": [
    "train_preds = clf.predict(X_train)\n",
    "mse1 = mean_squared_error(y_train, train_preds)\n",
    "rmse1 = sqrt(mse1)\n",
    "print(\"###########TRAIN###########\")\n",
    "print(\"MSE\", mse1)\n",
    "print(\"RMSE\", rmse1)"
   ]
  },
  {
   "cell_type": "markdown",
   "id": "80d1a9b9",
   "metadata": {},
   "source": [
    "Calculamos el MSE y el RMSE del modelo"
   ]
  },
  {
   "cell_type": "code",
   "execution_count": 11,
   "id": "01f8b267",
   "metadata": {},
   "outputs": [
    {
     "name": "stdout",
     "output_type": "stream",
     "text": [
      "###########TEST###########\n",
      "MSE 92.20325083696392\n",
      "RMSE 9.602252383527727\n"
     ]
    }
   ],
   "source": [
    "train_preds1 = clf.predict(X_test)\n",
    "mse2 = mean_squared_error(y_test, train_preds1)\n",
    "rmse2 = sqrt(mse2)\n",
    "print(\"###########TEST###########\")\n",
    "print(\"MSE\", mse2)\n",
    "print(\"RMSE\", rmse2)"
   ]
  },
  {
   "cell_type": "markdown",
   "id": "6716d8cb",
   "metadata": {},
   "source": [
    "Calculamos el puntaje del modelo"
   ]
  },
  {
   "cell_type": "code",
   "execution_count": 12,
   "id": "7bf033ca",
   "metadata": {},
   "outputs": [
    {
     "name": "stdout",
     "output_type": "stream",
     "text": [
      "0.00047998667449333787\n"
     ]
    }
   ],
   "source": [
    "score_m = clf.score(X_test, y_test)\n",
    "print(score_m)"
   ]
  },
  {
   "cell_type": "markdown",
   "id": "ec2fe6df",
   "metadata": {},
   "source": [
    "Como era de esperarse, el modelo de LinearRegression no es un buen modelo para la solución de este problema."
   ]
  }
 ],
 "metadata": {
  "kernelspec": {
   "display_name": "Python 3",
   "language": "python",
   "name": "python3"
  },
  "language_info": {
   "codemirror_mode": {
    "name": "ipython",
    "version": 3
   },
   "file_extension": ".py",
   "mimetype": "text/x-python",
   "name": "python",
   "nbconvert_exporter": "python",
   "pygments_lexer": "ipython3",
   "version": "3.9.1"
  }
 },
 "nbformat": 4,
 "nbformat_minor": 5
}
