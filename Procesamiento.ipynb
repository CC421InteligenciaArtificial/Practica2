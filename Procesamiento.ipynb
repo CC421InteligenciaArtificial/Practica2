{
 "cells": [
  {
   "cell_type": "markdown",
   "id": "35395e6f",
   "metadata": {},
   "source": [
    "# Intento de modelado 1\n",
    "\n",
    "## Elección de modelo\n",
    "\n",
    "### KNNeighbors Regression\n",
    "\n"
   ]
  },
  {
   "cell_type": "code",
   "execution_count": 1,
   "id": "a75346d1",
   "metadata": {},
   "outputs": [],
   "source": [
    "import pandas as pd\n",
    "import numpy as np\n",
    "import matplotlib.pyplot as plt\n",
    "import seaborn as sns\n",
    "from joblib import Parallel, delayed\n",
    "from sklearn.model_selection import train_test_split\n",
    "import swifter\n",
    "\n",
    "%matplotlib inline\n",
    "%config IPCompleter.greedy = True"
   ]
  },
  {
   "cell_type": "code",
   "execution_count": 2,
   "id": "49fdca91",
   "metadata": {},
   "outputs": [],
   "source": [
    "df = pd.read_csv('NuevoCSV2.csv')"
   ]
  },
  {
   "cell_type": "code",
   "execution_count": 3,
   "id": "6bcc1f0e",
   "metadata": {
    "scrolled": true
   },
   "outputs": [
    {
     "data": {
      "text/plain": [
       "fare_amount          float64\n",
       "pickup_datetime       object\n",
       "pickup_longitude     float64\n",
       "pickup_latitude      float64\n",
       "dropoff_longitude    float64\n",
       "dropoff_latitude     float64\n",
       "passenger_count        int64\n",
       "distance             float64\n",
       "dtype: object"
      ]
     },
     "execution_count": 3,
     "metadata": {},
     "output_type": "execute_result"
    }
   ],
   "source": [
    "df.dtypes"
   ]
  },
  {
   "cell_type": "code",
   "execution_count": 4,
   "id": "7f7a4c66",
   "metadata": {
    "scrolled": true
   },
   "outputs": [
    {
     "data": {
      "text/html": [
       "<div>\n",
       "<style scoped>\n",
       "    .dataframe tbody tr th:only-of-type {\n",
       "        vertical-align: middle;\n",
       "    }\n",
       "\n",
       "    .dataframe tbody tr th {\n",
       "        vertical-align: top;\n",
       "    }\n",
       "\n",
       "    .dataframe thead th {\n",
       "        text-align: right;\n",
       "    }\n",
       "</style>\n",
       "<table border=\"1\" class=\"dataframe\">\n",
       "  <thead>\n",
       "    <tr style=\"text-align: right;\">\n",
       "      <th></th>\n",
       "      <th>fare_amount</th>\n",
       "      <th>pickup_datetime</th>\n",
       "      <th>pickup_longitude</th>\n",
       "      <th>pickup_latitude</th>\n",
       "      <th>dropoff_longitude</th>\n",
       "      <th>dropoff_latitude</th>\n",
       "      <th>passenger_count</th>\n",
       "      <th>distance</th>\n",
       "    </tr>\n",
       "  </thead>\n",
       "  <tbody>\n",
       "    <tr>\n",
       "      <th>0</th>\n",
       "      <td>4.5</td>\n",
       "      <td>2009-06-15 17:26:21+00:00</td>\n",
       "      <td>-73.844311</td>\n",
       "      <td>40.721319</td>\n",
       "      <td>-73.841610</td>\n",
       "      <td>40.712278</td>\n",
       "      <td>1</td>\n",
       "      <td>94.358403</td>\n",
       "    </tr>\n",
       "    <tr>\n",
       "      <th>1</th>\n",
       "      <td>16.9</td>\n",
       "      <td>2010-01-05 16:52:16+00:00</td>\n",
       "      <td>-74.016048</td>\n",
       "      <td>40.711303</td>\n",
       "      <td>-73.979268</td>\n",
       "      <td>40.782004</td>\n",
       "      <td>1</td>\n",
       "      <td>796.956699</td>\n",
       "    </tr>\n",
       "    <tr>\n",
       "      <th>2</th>\n",
       "      <td>5.7</td>\n",
       "      <td>2011-08-18 00:35:00+00:00</td>\n",
       "      <td>-73.982738</td>\n",
       "      <td>40.761270</td>\n",
       "      <td>-73.991242</td>\n",
       "      <td>40.750562</td>\n",
       "      <td>2</td>\n",
       "      <td>136.740367</td>\n",
       "    </tr>\n",
       "    <tr>\n",
       "      <th>3</th>\n",
       "      <td>7.7</td>\n",
       "      <td>2012-04-21 04:30:42+00:00</td>\n",
       "      <td>-73.987130</td>\n",
       "      <td>40.733143</td>\n",
       "      <td>-73.991567</td>\n",
       "      <td>40.758092</td>\n",
       "      <td>1</td>\n",
       "      <td>253.404730</td>\n",
       "    </tr>\n",
       "  </tbody>\n",
       "</table>\n",
       "</div>"
      ],
      "text/plain": [
       "   fare_amount            pickup_datetime  pickup_longitude  pickup_latitude  \\\n",
       "0          4.5  2009-06-15 17:26:21+00:00        -73.844311        40.721319   \n",
       "1         16.9  2010-01-05 16:52:16+00:00        -74.016048        40.711303   \n",
       "2          5.7  2011-08-18 00:35:00+00:00        -73.982738        40.761270   \n",
       "3          7.7  2012-04-21 04:30:42+00:00        -73.987130        40.733143   \n",
       "\n",
       "   dropoff_longitude  dropoff_latitude  passenger_count    distance  \n",
       "0         -73.841610         40.712278                1   94.358403  \n",
       "1         -73.979268         40.782004                1  796.956699  \n",
       "2         -73.991242         40.750562                2  136.740367  \n",
       "3         -73.991567         40.758092                1  253.404730  "
      ]
     },
     "execution_count": 4,
     "metadata": {},
     "output_type": "execute_result"
    }
   ],
   "source": [
    "df.head(n=4)"
   ]
  },
  {
   "cell_type": "code",
   "execution_count": null,
   "id": "b0a33639",
   "metadata": {
    "scrolled": true
   },
   "outputs": [],
   "source": [
    "df.info(memory_usage='deep')"
   ]
  },
  {
   "cell_type": "code",
   "execution_count": null,
   "id": "561e2ab2",
   "metadata": {},
   "outputs": [],
   "source": [
    "for dtype in ['float','int','object']:\n",
    "    selected_dtype = df.select_dtypes(include=[dtype])\n",
    "    mean_usage_b = selected_dtype.memory_usage(deep=True).mean()\n",
    "    mean_usage_mb = mean_usage_b / 1024 ** 2\n",
    "    print(\"Average memory usage for {} columns: {:03.2f} MB\".format(dtype,mean_usage_mb))"
   ]
  },
  {
   "cell_type": "code",
   "execution_count": 6,
   "id": "f8b1974a",
   "metadata": {},
   "outputs": [
    {
     "data": {
      "text/html": [
       "<div>\n",
       "<style scoped>\n",
       "    .dataframe tbody tr th:only-of-type {\n",
       "        vertical-align: middle;\n",
       "    }\n",
       "\n",
       "    .dataframe tbody tr th {\n",
       "        vertical-align: top;\n",
       "    }\n",
       "\n",
       "    .dataframe thead th {\n",
       "        text-align: right;\n",
       "    }\n",
       "</style>\n",
       "<table border=\"1\" class=\"dataframe\">\n",
       "  <thead>\n",
       "    <tr style=\"text-align: right;\">\n",
       "      <th></th>\n",
       "      <th>pickup_datetime</th>\n",
       "    </tr>\n",
       "  </thead>\n",
       "  <tbody>\n",
       "    <tr>\n",
       "      <th>0</th>\n",
       "      <td>2009-06-15 17:26:21+00:00</td>\n",
       "    </tr>\n",
       "    <tr>\n",
       "      <th>1</th>\n",
       "      <td>2010-01-05 16:52:16+00:00</td>\n",
       "    </tr>\n",
       "    <tr>\n",
       "      <th>2</th>\n",
       "      <td>2011-08-18 00:35:00+00:00</td>\n",
       "    </tr>\n",
       "    <tr>\n",
       "      <th>3</th>\n",
       "      <td>2012-04-21 04:30:42+00:00</td>\n",
       "    </tr>\n",
       "    <tr>\n",
       "      <th>4</th>\n",
       "      <td>2010-03-09 07:51:00+00:00</td>\n",
       "    </tr>\n",
       "    <tr>\n",
       "      <th>...</th>\n",
       "      <td>...</td>\n",
       "    </tr>\n",
       "    <tr>\n",
       "      <th>53717845</th>\n",
       "      <td>2014-03-15 03:28:00+00:00</td>\n",
       "    </tr>\n",
       "    <tr>\n",
       "      <th>53717846</th>\n",
       "      <td>2009-03-24 20:46:20+00:00</td>\n",
       "    </tr>\n",
       "    <tr>\n",
       "      <th>53717847</th>\n",
       "      <td>2011-04-02 22:04:24+00:00</td>\n",
       "    </tr>\n",
       "    <tr>\n",
       "      <th>53717848</th>\n",
       "      <td>2011-10-26 05:57:51+00:00</td>\n",
       "    </tr>\n",
       "    <tr>\n",
       "      <th>53717849</th>\n",
       "      <td>2014-12-12 11:33:00+00:00</td>\n",
       "    </tr>\n",
       "  </tbody>\n",
       "</table>\n",
       "<p>53717850 rows × 1 columns</p>\n",
       "</div>"
      ],
      "text/plain": [
       "                    pickup_datetime\n",
       "0         2009-06-15 17:26:21+00:00\n",
       "1         2010-01-05 16:52:16+00:00\n",
       "2         2011-08-18 00:35:00+00:00\n",
       "3         2012-04-21 04:30:42+00:00\n",
       "4         2010-03-09 07:51:00+00:00\n",
       "...                             ...\n",
       "53717845  2014-03-15 03:28:00+00:00\n",
       "53717846  2009-03-24 20:46:20+00:00\n",
       "53717847  2011-04-02 22:04:24+00:00\n",
       "53717848  2011-10-26 05:57:51+00:00\n",
       "53717849  2014-12-12 11:33:00+00:00\n",
       "\n",
       "[53717850 rows x 1 columns]"
      ]
     },
     "execution_count": 6,
     "metadata": {},
     "output_type": "execute_result"
    }
   ],
   "source": [
    "# recuperamos las fechas en formato %m-%d \n",
    "# con esto reducimos cardinalidad aunque nos arriesgamos a generar error dado \n",
    "# que las fechas se distribuyen a lo largo de los años y el precio puede variar\n",
    "# con el tiempo, no solo con la temporada\n",
    "def fechero(fecha):\n",
    "    x=fecha[5:10]\n",
    "    return x\n",
    "\n",
    "Vec = df.filter(['pickup_datetime'])\n",
    "Vec"
   ]
  },
  {
   "cell_type": "code",
   "execution_count": 7,
   "id": "a328a02d",
   "metadata": {
    "scrolled": true
   },
   "outputs": [
    {
     "data": {
      "application/vnd.jupyter.widget-view+json": {
       "model_id": "74658474e78a4559a79f0fb303290c4f",
       "version_major": 2,
       "version_minor": 0
      },
      "text/plain": [
       "Pandas Apply:   0%|          | 0/53717850 [00:00<?, ?it/s]"
      ]
     },
     "metadata": {},
     "output_type": "display_data"
    },
    {
     "data": {
      "text/html": [
       "<div>\n",
       "<style scoped>\n",
       "    .dataframe tbody tr th:only-of-type {\n",
       "        vertical-align: middle;\n",
       "    }\n",
       "\n",
       "    .dataframe tbody tr th {\n",
       "        vertical-align: top;\n",
       "    }\n",
       "\n",
       "    .dataframe thead th {\n",
       "        text-align: right;\n",
       "    }\n",
       "</style>\n",
       "<table border=\"1\" class=\"dataframe\">\n",
       "  <thead>\n",
       "    <tr style=\"text-align: right;\">\n",
       "      <th></th>\n",
       "      <th>pickup_datetime</th>\n",
       "    </tr>\n",
       "  </thead>\n",
       "  <tbody>\n",
       "    <tr>\n",
       "      <th>0</th>\n",
       "      <td>06-15</td>\n",
       "    </tr>\n",
       "    <tr>\n",
       "      <th>1</th>\n",
       "      <td>01-05</td>\n",
       "    </tr>\n",
       "    <tr>\n",
       "      <th>2</th>\n",
       "      <td>08-18</td>\n",
       "    </tr>\n",
       "    <tr>\n",
       "      <th>3</th>\n",
       "      <td>04-21</td>\n",
       "    </tr>\n",
       "    <tr>\n",
       "      <th>4</th>\n",
       "      <td>03-09</td>\n",
       "    </tr>\n",
       "    <tr>\n",
       "      <th>...</th>\n",
       "      <td>...</td>\n",
       "    </tr>\n",
       "    <tr>\n",
       "      <th>53717845</th>\n",
       "      <td>03-15</td>\n",
       "    </tr>\n",
       "    <tr>\n",
       "      <th>53717846</th>\n",
       "      <td>03-24</td>\n",
       "    </tr>\n",
       "    <tr>\n",
       "      <th>53717847</th>\n",
       "      <td>04-02</td>\n",
       "    </tr>\n",
       "    <tr>\n",
       "      <th>53717848</th>\n",
       "      <td>10-26</td>\n",
       "    </tr>\n",
       "    <tr>\n",
       "      <th>53717849</th>\n",
       "      <td>12-12</td>\n",
       "    </tr>\n",
       "  </tbody>\n",
       "</table>\n",
       "<p>53717850 rows × 1 columns</p>\n",
       "</div>"
      ],
      "text/plain": [
       "         pickup_datetime\n",
       "0                  06-15\n",
       "1                  01-05\n",
       "2                  08-18\n",
       "3                  04-21\n",
       "4                  03-09\n",
       "...                  ...\n",
       "53717845           03-15\n",
       "53717846           03-24\n",
       "53717847           04-02\n",
       "53717848           10-26\n",
       "53717849           12-12\n",
       "\n",
       "[53717850 rows x 1 columns]"
      ]
     },
     "execution_count": 7,
     "metadata": {},
     "output_type": "execute_result"
    }
   ],
   "source": [
    "Vec['pickup_datetime'] = Vec['pickup_datetime'].swifter.apply(fechero)\n",
    "Vec"
   ]
  },
  {
   "cell_type": "code",
   "execution_count": null,
   "id": "44a74368",
   "metadata": {},
   "outputs": [],
   "source": [
    "Vec['pickup_datetime'].unique()"
   ]
  },
  {
   "cell_type": "markdown",
   "id": "dba856d2",
   "metadata": {},
   "source": [
    "Con la celda anterior podemos percatarnos de que están los 366 días existentes del año "
   ]
  },
  {
   "cell_type": "markdown",
   "id": "0ae8b8a5",
   "metadata": {},
   "source": [
    "A continuación exploraremos si los datos de las fechas no están desequilibrados"
   ]
  },
  {
   "cell_type": "code",
   "execution_count": null,
   "id": "988c03fc",
   "metadata": {},
   "outputs": [],
   "source": [
    "aux = Vec.groupby(['pickup_datetime'])\n",
    "print('Cantidad promedio de fechas por dato: ',aux.size().mean())\n",
    "print('Mínimos: ',aux.size().min())\n",
    "print('Máximos: ',aux.size().max())\n",
    "print('#################################')\n",
    "print(aux.size())"
   ]
  },
  {
   "cell_type": "code",
   "execution_count": null,
   "id": "f5f84422",
   "metadata": {},
   "outputs": [],
   "source": []
  },
  {
   "cell_type": "code",
   "execution_count": null,
   "id": "6f8a8e05",
   "metadata": {},
   "outputs": [],
   "source": []
  },
  {
   "cell_type": "code",
   "execution_count": 8,
   "id": "ee654ac9",
   "metadata": {},
   "outputs": [
    {
     "name": "stdout",
     "output_type": "stream",
     "text": [
      "          fare_amount            pickup_datetime  pickup_longitude  \\\n",
      "0                 4.5  2009-06-15 17:26:21+00:00        -73.844311   \n",
      "1                16.9  2010-01-05 16:52:16+00:00        -74.016048   \n",
      "2                 5.7  2011-08-18 00:35:00+00:00        -73.982738   \n",
      "3                 7.7  2012-04-21 04:30:42+00:00        -73.987130   \n",
      "4                 5.3  2010-03-09 07:51:00+00:00        -73.968095   \n",
      "...               ...                        ...               ...   \n",
      "53717845         14.0  2014-03-15 03:28:00+00:00        -74.005272   \n",
      "53717846          4.2  2009-03-24 20:46:20+00:00        -73.957784   \n",
      "53717847         14.1  2011-04-02 22:04:24+00:00        -73.970505   \n",
      "53717848         28.9  2011-10-26 05:57:51+00:00        -73.980901   \n",
      "53717849          7.5  2014-12-12 11:33:00+00:00        -73.969722   \n",
      "\n",
      "          pickup_latitude  dropoff_longitude  dropoff_latitude  \\\n",
      "0               40.721319         -73.841610         40.712278   \n",
      "1               40.711303         -73.979268         40.782004   \n",
      "2               40.761270         -73.991242         40.750562   \n",
      "3               40.733143         -73.991567         40.758092   \n",
      "4               40.768008         -73.956655         40.783762   \n",
      "...                   ...                ...               ...   \n",
      "53717845        40.740027         -73.963280         40.762555   \n",
      "53717846        40.765530         -73.951640         40.773959   \n",
      "53717847        40.752325         -73.960537         40.797342   \n",
      "53717848        40.764629         -73.870605         40.773963   \n",
      "53717849        40.797668         -73.970885         40.783313   \n",
      "\n",
      "          passenger_count     distance  dates  \n",
      "0                       1    94.358403  06-15  \n",
      "1                       1   796.956699  01-05  \n",
      "2                       2   136.740367  08-18  \n",
      "3                       1   253.404730  04-21  \n",
      "4                       1   194.695176  03-09  \n",
      "...                   ...          ...    ...  \n",
      "53717845                1   476.533194  03-15  \n",
      "53717846                1   104.305694  03-24  \n",
      "53717847                1   461.073889  04-02  \n",
      "53717848                1  1106.902488  10-26  \n",
      "53717849                1   144.020344  12-12  \n",
      "\n",
      "[53717850 rows x 9 columns]\n"
     ]
    }
   ],
   "source": [
    "import warnings\n",
    "warnings.filterwarnings('ignore')\n",
    "\n",
    "df.insert(8,\"dates\",Vec['pickup_datetime'],True)\n",
    "print(df)"
   ]
  },
  {
   "cell_type": "code",
   "execution_count": 9,
   "id": "09d9932d",
   "metadata": {},
   "outputs": [
    {
     "data": {
      "text/plain": [
       "(53717850, 9)"
      ]
     },
     "execution_count": 9,
     "metadata": {},
     "output_type": "execute_result"
    }
   ],
   "source": [
    "df.shape"
   ]
  },
  {
   "cell_type": "code",
   "execution_count": 10,
   "id": "f03b465d",
   "metadata": {
    "scrolled": true
   },
   "outputs": [
    {
     "data": {
      "text/html": [
       "<div>\n",
       "<style scoped>\n",
       "    .dataframe tbody tr th:only-of-type {\n",
       "        vertical-align: middle;\n",
       "    }\n",
       "\n",
       "    .dataframe tbody tr th {\n",
       "        vertical-align: top;\n",
       "    }\n",
       "\n",
       "    .dataframe thead th {\n",
       "        text-align: right;\n",
       "    }\n",
       "</style>\n",
       "<table border=\"1\" class=\"dataframe\">\n",
       "  <thead>\n",
       "    <tr style=\"text-align: right;\">\n",
       "      <th></th>\n",
       "      <th>fare_amount</th>\n",
       "      <th>pickup_datetime</th>\n",
       "      <th>pickup_longitude</th>\n",
       "      <th>pickup_latitude</th>\n",
       "      <th>dropoff_longitude</th>\n",
       "      <th>dropoff_latitude</th>\n",
       "      <th>passenger_count</th>\n",
       "      <th>distance</th>\n",
       "      <th>dates</th>\n",
       "    </tr>\n",
       "  </thead>\n",
       "  <tbody>\n",
       "    <tr>\n",
       "      <th>0</th>\n",
       "      <td>4.5</td>\n",
       "      <td>2009-06-15 17:26:21+00:00</td>\n",
       "      <td>-73.844311</td>\n",
       "      <td>40.721319</td>\n",
       "      <td>-73.841610</td>\n",
       "      <td>40.712278</td>\n",
       "      <td>1</td>\n",
       "      <td>94.358403</td>\n",
       "      <td>06-15</td>\n",
       "    </tr>\n",
       "    <tr>\n",
       "      <th>1</th>\n",
       "      <td>16.9</td>\n",
       "      <td>2010-01-05 16:52:16+00:00</td>\n",
       "      <td>-74.016048</td>\n",
       "      <td>40.711303</td>\n",
       "      <td>-73.979268</td>\n",
       "      <td>40.782004</td>\n",
       "      <td>1</td>\n",
       "      <td>796.956699</td>\n",
       "      <td>01-05</td>\n",
       "    </tr>\n",
       "    <tr>\n",
       "      <th>2</th>\n",
       "      <td>5.7</td>\n",
       "      <td>2011-08-18 00:35:00+00:00</td>\n",
       "      <td>-73.982738</td>\n",
       "      <td>40.761270</td>\n",
       "      <td>-73.991242</td>\n",
       "      <td>40.750562</td>\n",
       "      <td>2</td>\n",
       "      <td>136.740367</td>\n",
       "      <td>08-18</td>\n",
       "    </tr>\n",
       "    <tr>\n",
       "      <th>3</th>\n",
       "      <td>7.7</td>\n",
       "      <td>2012-04-21 04:30:42+00:00</td>\n",
       "      <td>-73.987130</td>\n",
       "      <td>40.733143</td>\n",
       "      <td>-73.991567</td>\n",
       "      <td>40.758092</td>\n",
       "      <td>1</td>\n",
       "      <td>253.404730</td>\n",
       "      <td>04-21</td>\n",
       "    </tr>\n",
       "  </tbody>\n",
       "</table>\n",
       "</div>"
      ],
      "text/plain": [
       "   fare_amount            pickup_datetime  pickup_longitude  pickup_latitude  \\\n",
       "0          4.5  2009-06-15 17:26:21+00:00        -73.844311        40.721319   \n",
       "1         16.9  2010-01-05 16:52:16+00:00        -74.016048        40.711303   \n",
       "2          5.7  2011-08-18 00:35:00+00:00        -73.982738        40.761270   \n",
       "3          7.7  2012-04-21 04:30:42+00:00        -73.987130        40.733143   \n",
       "\n",
       "   dropoff_longitude  dropoff_latitude  passenger_count    distance  dates  \n",
       "0         -73.841610         40.712278                1   94.358403  06-15  \n",
       "1         -73.979268         40.782004                1  796.956699  01-05  \n",
       "2         -73.991242         40.750562                2  136.740367  08-18  \n",
       "3         -73.991567         40.758092                1  253.404730  04-21  "
      ]
     },
     "execution_count": 10,
     "metadata": {},
     "output_type": "execute_result"
    }
   ],
   "source": [
    "df.head(4)"
   ]
  },
  {
   "cell_type": "code",
   "execution_count": 11,
   "id": "4c1a1403",
   "metadata": {},
   "outputs": [],
   "source": [
    "df= df.drop(['pickup_datetime'], axis=1)"
   ]
  },
  {
   "cell_type": "code",
   "execution_count": 12,
   "id": "916f9a16",
   "metadata": {},
   "outputs": [
    {
     "data": {
      "text/plain": [
       "(53717850, 8)"
      ]
     },
     "execution_count": 12,
     "metadata": {},
     "output_type": "execute_result"
    }
   ],
   "source": [
    "df.shape"
   ]
  },
  {
   "cell_type": "code",
   "execution_count": 13,
   "id": "6fab5c3c",
   "metadata": {},
   "outputs": [
    {
     "data": {
      "text/html": [
       "<div>\n",
       "<style scoped>\n",
       "    .dataframe tbody tr th:only-of-type {\n",
       "        vertical-align: middle;\n",
       "    }\n",
       "\n",
       "    .dataframe tbody tr th {\n",
       "        vertical-align: top;\n",
       "    }\n",
       "\n",
       "    .dataframe thead th {\n",
       "        text-align: right;\n",
       "    }\n",
       "</style>\n",
       "<table border=\"1\" class=\"dataframe\">\n",
       "  <thead>\n",
       "    <tr style=\"text-align: right;\">\n",
       "      <th></th>\n",
       "      <th>fare_amount</th>\n",
       "      <th>pickup_longitude</th>\n",
       "      <th>pickup_latitude</th>\n",
       "      <th>dropoff_longitude</th>\n",
       "      <th>dropoff_latitude</th>\n",
       "      <th>passenger_count</th>\n",
       "      <th>distance</th>\n",
       "      <th>dates</th>\n",
       "    </tr>\n",
       "  </thead>\n",
       "  <tbody>\n",
       "    <tr>\n",
       "      <th>0</th>\n",
       "      <td>4.5</td>\n",
       "      <td>-73.844311</td>\n",
       "      <td>40.721319</td>\n",
       "      <td>-73.841610</td>\n",
       "      <td>40.712278</td>\n",
       "      <td>1</td>\n",
       "      <td>94.358403</td>\n",
       "      <td>06-15</td>\n",
       "    </tr>\n",
       "    <tr>\n",
       "      <th>1</th>\n",
       "      <td>16.9</td>\n",
       "      <td>-74.016048</td>\n",
       "      <td>40.711303</td>\n",
       "      <td>-73.979268</td>\n",
       "      <td>40.782004</td>\n",
       "      <td>1</td>\n",
       "      <td>796.956699</td>\n",
       "      <td>01-05</td>\n",
       "    </tr>\n",
       "    <tr>\n",
       "      <th>2</th>\n",
       "      <td>5.7</td>\n",
       "      <td>-73.982738</td>\n",
       "      <td>40.761270</td>\n",
       "      <td>-73.991242</td>\n",
       "      <td>40.750562</td>\n",
       "      <td>2</td>\n",
       "      <td>136.740367</td>\n",
       "      <td>08-18</td>\n",
       "    </tr>\n",
       "    <tr>\n",
       "      <th>3</th>\n",
       "      <td>7.7</td>\n",
       "      <td>-73.987130</td>\n",
       "      <td>40.733143</td>\n",
       "      <td>-73.991567</td>\n",
       "      <td>40.758092</td>\n",
       "      <td>1</td>\n",
       "      <td>253.404730</td>\n",
       "      <td>04-21</td>\n",
       "    </tr>\n",
       "  </tbody>\n",
       "</table>\n",
       "</div>"
      ],
      "text/plain": [
       "   fare_amount  pickup_longitude  pickup_latitude  dropoff_longitude  \\\n",
       "0          4.5        -73.844311        40.721319         -73.841610   \n",
       "1         16.9        -74.016048        40.711303         -73.979268   \n",
       "2          5.7        -73.982738        40.761270         -73.991242   \n",
       "3          7.7        -73.987130        40.733143         -73.991567   \n",
       "\n",
       "   dropoff_latitude  passenger_count    distance  dates  \n",
       "0         40.712278                1   94.358403  06-15  \n",
       "1         40.782004                1  796.956699  01-05  \n",
       "2         40.750562                2  136.740367  08-18  \n",
       "3         40.758092                1  253.404730  04-21  "
      ]
     },
     "execution_count": 13,
     "metadata": {},
     "output_type": "execute_result"
    }
   ],
   "source": [
    "df.head(4)"
   ]
  },
  {
   "cell_type": "code",
   "execution_count": 14,
   "id": "25707991",
   "metadata": {},
   "outputs": [],
   "source": [
    "ruta = \"./dataframe.csv\"\n",
    "df.to_csv(ruta, index=False)"
   ]
  }
 ],
 "metadata": {
  "celltoolbar": "Raw Cell Format",
  "kernelspec": {
   "display_name": "Python 3",
   "language": "python",
   "name": "python3"
  },
  "language_info": {
   "codemirror_mode": {
    "name": "ipython",
    "version": 3
   },
   "file_extension": ".py",
   "mimetype": "text/x-python",
   "name": "python",
   "nbconvert_exporter": "python",
   "pygments_lexer": "ipython3",
   "version": "3.9.1"
  }
 },
 "nbformat": 4,
 "nbformat_minor": 5
}
